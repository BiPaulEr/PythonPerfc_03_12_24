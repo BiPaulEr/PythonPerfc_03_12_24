{
 "cells": [
  {
   "cell_type": "code",
   "execution_count": 4,
   "id": "295aabed-a5e1-4613-b5bd-95c072b69599",
   "metadata": {},
   "outputs": [
    {
     "name": "stdout",
     "output_type": "stream",
     "text": [
      "Hello\n"
     ]
    }
   ],
   "source": [
    "def simple_salutation():\n",
    "    print(\"Hello\")\n",
    "    \n",
    "from threading import Thread\n",
    "t1 = Thread(target=simple_salutation)\n",
    "t1.start()"
   ]
  },
  {
   "cell_type": "code",
   "execution_count": 5,
   "id": "3b19c637-8fbf-4032-944d-d82a35abb66b",
   "metadata": {},
   "outputs": [
    {
     "name": "stdout",
     "output_type": "stream",
     "text": [
      "Hello\n"
     ]
    },
    {
     "ename": "RuntimeError",
     "evalue": "threads can only be started once",
     "output_type": "error",
     "traceback": [
      "\u001b[1;31m---------------------------------------------------------------------------\u001b[0m",
      "\u001b[1;31mRuntimeError\u001b[0m                              Traceback (most recent call last)",
      "Cell \u001b[1;32mIn[5], line 3\u001b[0m\n\u001b[0;32m      1\u001b[0m t1 \u001b[38;5;241m=\u001b[39m Thread(target\u001b[38;5;241m=\u001b[39msimple_salutation)\n\u001b[0;32m      2\u001b[0m t1\u001b[38;5;241m.\u001b[39mstart()\n\u001b[1;32m----> 3\u001b[0m \u001b[43mt1\u001b[49m\u001b[38;5;241;43m.\u001b[39;49m\u001b[43mstart\u001b[49m\u001b[43m(\u001b[49m\u001b[43m)\u001b[49m\n",
      "File \u001b[1;32m~\\AppData\\Local\\Programs\\Python\\Python312\\Lib\\threading.py:989\u001b[0m, in \u001b[0;36mThread.start\u001b[1;34m(self)\u001b[0m\n\u001b[0;32m    986\u001b[0m     \u001b[38;5;28;01mraise\u001b[39;00m \u001b[38;5;167;01mRuntimeError\u001b[39;00m(\u001b[38;5;124m\"\u001b[39m\u001b[38;5;124mthread.__init__() not called\u001b[39m\u001b[38;5;124m\"\u001b[39m)\n\u001b[0;32m    988\u001b[0m \u001b[38;5;28;01mif\u001b[39;00m \u001b[38;5;28mself\u001b[39m\u001b[38;5;241m.\u001b[39m_started\u001b[38;5;241m.\u001b[39mis_set():\n\u001b[1;32m--> 989\u001b[0m     \u001b[38;5;28;01mraise\u001b[39;00m \u001b[38;5;167;01mRuntimeError\u001b[39;00m(\u001b[38;5;124m\"\u001b[39m\u001b[38;5;124mthreads can only be started once\u001b[39m\u001b[38;5;124m\"\u001b[39m)\n\u001b[0;32m    991\u001b[0m \u001b[38;5;28;01mwith\u001b[39;00m _active_limbo_lock:\n\u001b[0;32m    992\u001b[0m     _limbo[\u001b[38;5;28mself\u001b[39m] \u001b[38;5;241m=\u001b[39m \u001b[38;5;28mself\u001b[39m\n",
      "\u001b[1;31mRuntimeError\u001b[0m: threads can only be started once"
     ]
    }
   ],
   "source": [
    "t1 = Thread(target=simple_salutation)\n",
    "t1.start()\n",
    "t1.start()"
   ]
  },
  {
   "cell_type": "code",
   "execution_count": 10,
   "id": "96f92b13-dca1-4b75-a061-aa48726112dd",
   "metadata": {},
   "outputs": [
    {
     "name": "stdout",
     "output_type": "stream",
     "text": [
      "THREAD t1\n",
      "None\n",
      "False\n",
      "Je suis la salutation ....zzzz\n",
      "THREAD t1\n",
      "24584\n",
      "True\n",
      "zzzz... longue\n"
     ]
    }
   ],
   "source": [
    "#demosntration ident \n",
    "import time\n",
    "def salutation_long():\n",
    "    print(\"Je suis la salutation ....zzzz\")\n",
    "    time.sleep(3)\n",
    "    print(\"zzzz... longue\")\n",
    "\n",
    "def info(thread):\n",
    "    print(thread.name)\n",
    "    print(thread.ident)\n",
    "    print(thread.is_alive())\n",
    "\n",
    "t1 = Thread(target=salutation_long, name = \"THREAD t1\")\n",
    "info(t1)\n",
    "t1.start()\n",
    "info(t1)"
   ]
  },
  {
   "cell_type": "code",
   "execution_count": 8,
   "id": "97ee2c0a-caf5-4926-b438-9f643e1bfe60",
   "metadata": {},
   "outputs": [
    {
     "name": "stdout",
     "output_type": "stream",
     "text": [
      "..........**********"
     ]
    }
   ],
   "source": [
    "#arguments\n",
    "import time\n",
    "def worker(caractere):\n",
    "    for i in range(0,10):\n",
    "        print(caractere, end='', flush=True)\n",
    "        time.sleep(1)\n",
    "\n",
    "worker(\".\")\n",
    "worker(\"*\")"
   ]
  },
  {
   "cell_type": "code",
   "execution_count": 9,
   "id": "e97390f4-c59f-4f5a-8a41-85fb3622ba03",
   "metadata": {},
   "outputs": [
    {
     "name": "stdout",
     "output_type": "stream",
     "text": [
      ".*.**.*..**..**..*.*"
     ]
    }
   ],
   "source": [
    "t_point = Thread(target = worker, args = (\".\"))\n",
    "t_asterix = Thread(target = worker, args = (\"*\"))\n",
    "t_point.start()\n",
    "t_asterix.start()"
   ]
  },
  {
   "cell_type": "code",
   "execution_count": 22,
   "id": "c02e0bd1-7078-4c6f-9a19-85a25f750a8c",
   "metadata": {},
   "outputs": [
    {
     "name": "stdout",
     "output_type": "stream",
     "text": [
      "[<_MainThread(MainThread, started 51540)>, <Thread(IOPub, started daemon 57500)>, <Heartbeat(Heartbeat, started daemon 46432)>, <ControlThread(Control, started daemon 40480)>, <HistorySavingThread(IPythonHistorySavingThread, started 43652)>, <ParentPollerWindows(Thread-4, started daemon 23676)>, <Thread(Thread-87 (ecriture), started 31124)>, <Thread(Thread-88 (ecriture), started 46480)>, <Thread(Thread-89 (ecriture), started 29456)>, <Thread(Thread-90 (ecriture), started 50340)>, <Thread(Thread-91 (ecriture), started 54836)>, <Thread(Thread-92 (ecriture), started 28748)>]\n",
      "12\n",
      "6\n",
      "6\n",
      "6\n",
      "Je suis le main Thread\n"
     ]
    }
   ],
   "source": [
    "#Correction Exercice 1\n",
    "import threading\n",
    "def ecriture():\n",
    "    curr = threading.current_thread()\n",
    "    with open(\"./compte.txt\", \"a\") as file:\n",
    "        for i in range(0, 11):\n",
    "            file.write(f\"{curr.name} {i}\\n\")\n",
    "            file.flush()\n",
    "ecriture()\n",
    "liste_thread = []\n",
    "for _ in range(0, 10):\n",
    "    liste_thread.append(Thread(target = ecriture))\n",
    "\n",
    "for thread in liste_thread:\n",
    "    thread.start()\n",
    "print(threading.enumerate())\n",
    "print(threading.active_count())\n",
    "time.sleep(3)\n",
    "print(threading.active_count())\n",
    "time.sleep(3)\n",
    "print(threading.active_count())\n",
    "time.sleep(3)\n",
    "print(threading.active_count())\n",
    "print(\"Je suis le main Thread\")    "
   ]
  },
  {
   "cell_type": "code",
   "execution_count": 27,
   "id": "caa64bcc-7f54-4a88-a466-5bdfd60c02a2",
   "metadata": {},
   "outputs": [
    {
     "name": "stdout",
     "output_type": "stream",
     "text": [
      "....*.*.*.*.*.*.*\n",
      "T_point end\n",
      "\n",
      "***"
     ]
    }
   ],
   "source": [
    "#join\n",
    "import time\n",
    "def worker(caractere):\n",
    "    for i in range(0,10):\n",
    "        print(caractere, end='', flush=True)\n",
    "        time.sleep(1)\n",
    "\n",
    "t_point = Thread(target = worker, args = (\".\"))\n",
    "t_asterix = Thread(target = worker, args = (\"*\"))\n",
    "t_point.start()\n",
    "time.sleep(4)\n",
    "t_asterix.start()\n",
    "t_point.join()\n",
    "print(\"\\nT_point end\\n\")"
   ]
  },
  {
   "cell_type": "code",
   "execution_count": 31,
   "id": "b80e6946-b4c0-416a-98f4-bace3e96a350",
   "metadata": {},
   "outputs": [],
   "source": [
    "def ecriture_nombre():\n",
    "    curr = threading.current_thread()\n",
    "    with open(\"./compte.txt\", \"a\") as file:\n",
    "        for i in range(0, 11):\n",
    "            file.write(f\"{curr.name} {i}\\n\")\n",
    "            file.flush()\n",
    "            \n",
    "def ecriture_lettre():\n",
    "    curr = threading.current_thread()\n",
    "    with open(\"./compte.txt\", \"a\") as file:\n",
    "        for i in \"ABCDE\":\n",
    "            file.write(f\"{curr.name} {i}\\n\")\n",
    "            file.flush()\n",
    "            \n",
    "liste_thread_lettre = []\n",
    "for _ in range(0, 3):\n",
    "    liste_thread_lettre.append(Thread(target = ecriture_lettre))\n",
    "    \n",
    "liste_thread_nombre = []\n",
    "for _ in range(0, 3):\n",
    "    liste_thread_nombre.append(Thread(target = ecriture_nombre))\n",
    "    \n",
    "for thread in liste_thread_nombre:\n",
    "    thread.start()\n",
    "    \n",
    "for thread in liste_thread_nombre:\n",
    "    thread.join()\n",
    "    \n",
    "for thread in liste_thread_lettre:\n",
    "    thread.start()"
   ]
  },
  {
   "cell_type": "code",
   "execution_count": 33,
   "id": "f6b75a02-f0bc-4360-96c6-9121b7d42d8b",
   "metadata": {},
   "outputs": [
    {
     "name": "stdout",
     "output_type": "stream",
     "text": [
      "**********"
     ]
    }
   ],
   "source": [
    "#Classe Thread\n",
    "\n",
    "class Worker(Thread):\n",
    "    def __init__(self, caractere, *args):\n",
    "        super().__init__(*args)\n",
    "        self.caractere = caractere\n",
    "\n",
    "    def run(self):\n",
    "        for i in range(0,10):\n",
    "            print(self.caractere, end='', flush=True)\n",
    "            time.sleep(1)\n",
    "\n",
    "worker = Worker(\"*\")\n",
    "worker.start()\n"
   ]
  },
  {
   "cell_type": "code",
   "execution_count": 38,
   "id": "9a197e81-7dbe-4417-9d7b-ec444e5163ea",
   "metadata": {},
   "outputs": [
    {
     "name": "stdout",
     "output_type": "stream",
     "text": [
      "Thread 1 is None\n",
      "\n",
      "Thread 1 is 58\n",
      "\n",
      "Thread 2 is 58\n",
      "\n",
      "Thread 2 is 58\n",
      "\n"
     ]
    }
   ],
   "source": [
    "#variable local au thread\n",
    "from random import randint\n",
    "class SharedData:\n",
    "    shared_data = None\n",
    "\n",
    "def show_value(data):\n",
    "    if data.shared_data is None:\n",
    "        print(f\"{threading.current_thread().name} is None\\n\")\n",
    "    else:\n",
    "        print(f\"{threading.current_thread().name} is {data.shared_data}\\n\")\n",
    "\n",
    "def worker(data):\n",
    "    show_value(data)\n",
    "    if data.shared_data is None:\n",
    "        data.shared_data = randint(0,100)\n",
    "    show_value(data)\n",
    "    \n",
    "data  = SharedData()\n",
    "\n",
    "for i in range (1, 3):\n",
    "    t = Thread(target = worker, name = \"Thread \" + str(i), args = (data,))\n",
    "    t.start()"
   ]
  },
  {
   "cell_type": "code",
   "execution_count": 41,
   "id": "6f9b000f-5c82-4552-a2da-7e8f23b79b79",
   "metadata": {},
   "outputs": [
    {
     "name": "stdout",
     "output_type": "stream",
     "text": [
      "Thread 1 is <_thread._local object at 0x000001ADB4C57E70>\n",
      "\n",
      "Thread 1 is <_thread._local object at 0x000001ADB4C57E70>\n",
      "\n",
      "Thread 2 is <_thread._local object at 0x000001ADB4C57E70>\n",
      "\n",
      "Thread 2 is <_thread._local object at 0x000001ADB4C57E70>\n",
      "\n"
     ]
    }
   ],
   "source": [
    "#variable local au thread\n",
    "from random import randint\n",
    "from threading import local\n",
    "\n",
    "class SharedData:\n",
    "    shared_data = None\n",
    "\n",
    "def show_value(data):\n",
    "    if data is None:\n",
    "        print(f\"{threading.current_thread().name} is None\\n\")\n",
    "    else:\n",
    "        print(f\"{threading.current_thread().name} is {data}\\n\")\n",
    "\n",
    "def worker(data):\n",
    "    show_value(data)\n",
    "    if data is None:\n",
    "        data = randint(0,100)\n",
    "    show_value(data)\n",
    "    \n",
    "data  = local()\n",
    "\n",
    "for i in range (1, 3):\n",
    "    t = Thread(target = worker, name = \"Thread \" + str(i), args = (data,))\n",
    "    t.start()"
   ]
  },
  {
   "cell_type": "code",
   "execution_count": null,
   "id": "54acee07-6baf-4c3c-92f5-9e02fecaac95",
   "metadata": {},
   "outputs": [],
   "source": []
  }
 ],
 "metadata": {
  "kernelspec": {
   "display_name": "Python 3 (ipykernel)",
   "language": "python",
   "name": "python3"
  },
  "language_info": {
   "codemirror_mode": {
    "name": "ipython",
    "version": 3
   },
   "file_extension": ".py",
   "mimetype": "text/x-python",
   "name": "python",
   "nbconvert_exporter": "python",
   "pygments_lexer": "ipython3",
   "version": "3.12.7"
  }
 },
 "nbformat": 4,
 "nbformat_minor": 5
}
