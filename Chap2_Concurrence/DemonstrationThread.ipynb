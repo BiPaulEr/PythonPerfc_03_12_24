{
 "cells": [
  {
   "cell_type": "code",
   "execution_count": 4,
   "id": "295aabed-a5e1-4613-b5bd-95c072b69599",
   "metadata": {},
   "outputs": [
    {
     "name": "stdout",
     "output_type": "stream",
     "text": [
      "Hello\n"
     ]
    }
   ],
   "source": [
    "def simple_salutation():\n",
    "    print(\"Hello\")\n",
    "    \n",
    "from threading import Thread\n",
    "t1 = Thread(target=simple_salutation)\n",
    "t1.start()"
   ]
  },
  {
   "cell_type": "code",
   "execution_count": 5,
   "id": "3b19c637-8fbf-4032-944d-d82a35abb66b",
   "metadata": {},
   "outputs": [
    {
     "name": "stdout",
     "output_type": "stream",
     "text": [
      "Hello\n"
     ]
    },
    {
     "ename": "RuntimeError",
     "evalue": "threads can only be started once",
     "output_type": "error",
     "traceback": [
      "\u001b[1;31m---------------------------------------------------------------------------\u001b[0m",
      "\u001b[1;31mRuntimeError\u001b[0m                              Traceback (most recent call last)",
      "Cell \u001b[1;32mIn[5], line 3\u001b[0m\n\u001b[0;32m      1\u001b[0m t1 \u001b[38;5;241m=\u001b[39m Thread(target\u001b[38;5;241m=\u001b[39msimple_salutation)\n\u001b[0;32m      2\u001b[0m t1\u001b[38;5;241m.\u001b[39mstart()\n\u001b[1;32m----> 3\u001b[0m \u001b[43mt1\u001b[49m\u001b[38;5;241;43m.\u001b[39;49m\u001b[43mstart\u001b[49m\u001b[43m(\u001b[49m\u001b[43m)\u001b[49m\n",
      "File \u001b[1;32m~\\AppData\\Local\\Programs\\Python\\Python312\\Lib\\threading.py:989\u001b[0m, in \u001b[0;36mThread.start\u001b[1;34m(self)\u001b[0m\n\u001b[0;32m    986\u001b[0m     \u001b[38;5;28;01mraise\u001b[39;00m \u001b[38;5;167;01mRuntimeError\u001b[39;00m(\u001b[38;5;124m\"\u001b[39m\u001b[38;5;124mthread.__init__() not called\u001b[39m\u001b[38;5;124m\"\u001b[39m)\n\u001b[0;32m    988\u001b[0m \u001b[38;5;28;01mif\u001b[39;00m \u001b[38;5;28mself\u001b[39m\u001b[38;5;241m.\u001b[39m_started\u001b[38;5;241m.\u001b[39mis_set():\n\u001b[1;32m--> 989\u001b[0m     \u001b[38;5;28;01mraise\u001b[39;00m \u001b[38;5;167;01mRuntimeError\u001b[39;00m(\u001b[38;5;124m\"\u001b[39m\u001b[38;5;124mthreads can only be started once\u001b[39m\u001b[38;5;124m\"\u001b[39m)\n\u001b[0;32m    991\u001b[0m \u001b[38;5;28;01mwith\u001b[39;00m _active_limbo_lock:\n\u001b[0;32m    992\u001b[0m     _limbo[\u001b[38;5;28mself\u001b[39m] \u001b[38;5;241m=\u001b[39m \u001b[38;5;28mself\u001b[39m\n",
      "\u001b[1;31mRuntimeError\u001b[0m: threads can only be started once"
     ]
    }
   ],
   "source": [
    "t1 = Thread(target=simple_salutation)\n",
    "t1.start()\n",
    "t1.start()"
   ]
  },
  {
   "cell_type": "code",
   "execution_count": 10,
   "id": "96f92b13-dca1-4b75-a061-aa48726112dd",
   "metadata": {},
   "outputs": [
    {
     "name": "stdout",
     "output_type": "stream",
     "text": [
      "THREAD t1\n",
      "None\n",
      "False\n",
      "Je suis la salutation ....zzzz\n",
      "THREAD t1\n",
      "24584\n",
      "True\n",
      "zzzz... longue\n"
     ]
    }
   ],
   "source": [
    "#demosntration ident \n",
    "import time\n",
    "def salutation_long():\n",
    "    print(\"Je suis la salutation ....zzzz\")\n",
    "    time.sleep(3)\n",
    "    print(\"zzzz... longue\")\n",
    "\n",
    "def info(thread):\n",
    "    print(thread.name)\n",
    "    print(thread.ident)\n",
    "    print(thread.is_alive())\n",
    "\n",
    "t1 = Thread(target=salutation_long, name = \"THREAD t1\")\n",
    "info(t1)\n",
    "t1.start()\n",
    "info(t1)"
   ]
  },
  {
   "cell_type": "code",
   "execution_count": 8,
   "id": "97ee2c0a-caf5-4926-b438-9f643e1bfe60",
   "metadata": {},
   "outputs": [
    {
     "name": "stdout",
     "output_type": "stream",
     "text": [
      "..........**********"
     ]
    }
   ],
   "source": [
    "#arguments\n",
    "import time\n",
    "def worker(caractere):\n",
    "    for i in range(0,10):\n",
    "        print(caractere, end='', flush=True)\n",
    "        time.sleep(1)\n",
    "\n",
    "worker(\".\")\n",
    "worker(\"*\")"
   ]
  },
  {
   "cell_type": "code",
   "execution_count": 9,
   "id": "e97390f4-c59f-4f5a-8a41-85fb3622ba03",
   "metadata": {},
   "outputs": [
    {
     "name": "stdout",
     "output_type": "stream",
     "text": [
      ".*.**.*..**..**..*.*"
     ]
    }
   ],
   "source": [
    "t_point = Thread(target = worker, args = (\".\"))\n",
    "t_asterix = Thread(target = worker, args = (\"*\"))\n",
    "t_point.start()\n",
    "t_asterix.start()"
   ]
  },
  {
   "cell_type": "code",
   "execution_count": null,
   "id": "c02e0bd1-7078-4c6f-9a19-85a25f750a8c",
   "metadata": {},
   "outputs": [],
   "source": []
  }
 ],
 "metadata": {
  "kernelspec": {
   "display_name": "Python 3 (ipykernel)",
   "language": "python",
   "name": "python3"
  },
  "language_info": {
   "codemirror_mode": {
    "name": "ipython",
    "version": 3
   },
   "file_extension": ".py",
   "mimetype": "text/x-python",
   "name": "python",
   "nbconvert_exporter": "python",
   "pygments_lexer": "ipython3",
   "version": "3.12.7"
  }
 },
 "nbformat": 4,
 "nbformat_minor": 5
}
