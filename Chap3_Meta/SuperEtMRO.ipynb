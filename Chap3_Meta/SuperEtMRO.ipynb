{
 "cells": [
  {
   "cell_type": "code",
   "execution_count": 7,
   "id": "0f2b820e-c778-4d3a-8ff7-862a5f2b77bc",
   "metadata": {},
   "outputs": [
    {
     "name": "stdout",
     "output_type": "stream",
     "text": [
      "(<class '__main__.MyClass'>, <class 'object'>)\n"
     ]
    }
   ],
   "source": [
    "class MyClass(object):\n",
    "    pass\n",
    "    \n",
    "myclass = MyClass()\n",
    "\n",
    "print(myclass.__class__.__mro__)"
   ]
  },
  {
   "cell_type": "code",
   "execution_count": 20,
   "id": "20eae81d-7761-4af9-81ee-22e56a0c6b19",
   "metadata": {},
   "outputs": [
    {
     "name": "stdout",
     "output_type": "stream",
     "text": [
      "C A B B "
     ]
    },
    {
     "data": {
      "text/plain": [
       "<__main__.C at 0x2166d5bf770>"
      ]
     },
     "execution_count": 20,
     "metadata": {},
     "output_type": "execute_result"
    }
   ],
   "source": [
    "class A:\n",
    "    def __init__(self):\n",
    "        print(\"A\", end=\" \")\n",
    "        super().__init__()\n",
    "\n",
    "class B:\n",
    "    def __init__(self):\n",
    "        print(\"B\", end=\" \")\n",
    "        super().__init__()\n",
    "\n",
    "class C(A, B):\n",
    "    def __init__(self):\n",
    "        print(\"C\", end=\" \")\n",
    "        A.__init__(self)\n",
    "        B.__init__(self)\n",
    "\n",
    "C()"
   ]
  },
  {
   "cell_type": "code",
   "execution_count": 17,
   "id": "79baca99-163c-4506-8cf5-8a04996bbc93",
   "metadata": {},
   "outputs": [
    {
     "name": "stdout",
     "output_type": "stream",
     "text": [
      "Je suis une tortue\n"
     ]
    }
   ],
   "source": [
    "isntance_de_b.print()\n",
    "#instance_de_c.print()"
   ]
  },
  {
   "cell_type": "code",
   "execution_count": 22,
   "id": "05542867-0b30-4d7e-921f-6eef65b7dca8",
   "metadata": {},
   "outputs": [
    {
     "name": "stdout",
     "output_type": "stream",
     "text": [
      "C A B "
     ]
    }
   ],
   "source": [
    "class A:\n",
    "    def __init__(self):\n",
    "        print(\"A\", end=\" \")\n",
    "        super().__init__()\n",
    "\n",
    "class B:\n",
    "    def __init__(self):\n",
    "        print(\"B\", end=\" \")\n",
    "        super().__init__()\n",
    "\n",
    "class C(A, B):\n",
    "    def __init__(self):\n",
    "        print(\"C\", end=\" \")\n",
    "        super().__init__()\n",
    "\n",
    "\n",
    "instance_c = C()"
   ]
  },
  {
   "cell_type": "code",
   "execution_count": 23,
   "id": "3c1d166a-6d3b-4efc-9687-a1bed0482e9a",
   "metadata": {},
   "outputs": [
    {
     "data": {
      "text/plain": [
       "(__main__.C, __main__.A, __main__.B, object)"
      ]
     },
     "execution_count": 23,
     "metadata": {},
     "output_type": "execute_result"
    }
   ],
   "source": [
    "instance_c.__class__.__mro__"
   ]
  },
  {
   "cell_type": "code",
   "execution_count": 33,
   "id": "0e5392a7-c50e-4585-ac5b-946cbe5f7a29",
   "metadata": {},
   "outputs": [
    {
     "name": "stdout",
     "output_type": "stream",
     "text": [
      "C A B \n",
      "AGE = 18\n",
      "POIDS = 50\n"
     ]
    }
   ],
   "source": [
    "#probleme\n",
    "class A:\n",
    "    def __init__(self, age, **kwargs):\n",
    "        self.age = age\n",
    "        print(\"A\", end=\" \")\n",
    "        super().__init__( **kwargs)\n",
    "\n",
    "class B:\n",
    "    def __init__(self, poids,  **kwargs):\n",
    "        self.poids = poids\n",
    "        print(\"B\", end=\" \")\n",
    "        super().__init__( **kwargs)\n",
    "\n",
    "class C(A, B):\n",
    "    def __init__(self, age, poids):\n",
    "        print(\"C\", end=\" \")\n",
    "        super().__init__(poids = poids, age = age)\n",
    "    def print(self):\n",
    "        print(f\"\\nAGE = {self.age}\")\n",
    "        print(f\"POIDS = {self.poids}\")\n",
    "\n",
    "\n",
    "instance_c = C(18, 50)\n",
    "instance_c.print()\n"
   ]
  },
  {
   "cell_type": "code",
   "execution_count": 41,
   "id": "41e9427a-6759-4e8d-838c-3217b5f60248",
   "metadata": {},
   "outputs": [
    {
     "name": "stdout",
     "output_type": "stream",
     "text": [
      "public\n",
      "J'ai le droit d'y acceder dans la classe  ? privee\n"
     ]
    }
   ],
   "source": [
    "#prive \n",
    "class MyClass:\n",
    "    def __init__(self):\n",
    "        self.attr_public = \"public\"\n",
    "        self._attr_protected = \"protected\"\n",
    "        self.__attr_prive = \"privee\"\n",
    "    def print(self):\n",
    "        print(f\"J'ai le droit d'y acceder dans la classe  ? {self.__attr_prive}\")\n",
    "\n",
    "myclass = MyClass()\n",
    "print(myclass.attr_public)\n",
    "myclass.print()\n",
    "#print(myclass.__attr_prive) impossible \n"
   ]
  },
  {
   "cell_type": "code",
   "execution_count": 42,
   "id": "f774772b-c0c8-435d-a36d-e5f4a066b58b",
   "metadata": {},
   "outputs": [
    {
     "data": {
      "text/plain": [
       "{'attr_public': 'public',\n",
       " '_attr_protected': 'protected',\n",
       " '_MyClass__attr_prive': 'privee'}"
      ]
     },
     "execution_count": 42,
     "metadata": {},
     "output_type": "execute_result"
    }
   ],
   "source": [
    "myclass.__dict__"
   ]
  },
  {
   "cell_type": "code",
   "execution_count": 40,
   "id": "4797c1d3-b56f-486b-beda-75056fc19aa5",
   "metadata": {},
   "outputs": [
    {
     "name": "stdout",
     "output_type": "stream",
     "text": [
      "privee\n"
     ]
    }
   ],
   "source": [
    "print(myclass._MyClass__attr_prive)"
   ]
  },
  {
   "cell_type": "code",
   "execution_count": null,
   "id": "14fc951f-fc97-4f36-a7c4-674850589209",
   "metadata": {},
   "outputs": [],
   "source": []
  }
 ],
 "metadata": {
  "kernelspec": {
   "display_name": "Python 3 (ipykernel)",
   "language": "python",
   "name": "python3"
  },
  "language_info": {
   "codemirror_mode": {
    "name": "ipython",
    "version": 3
   },
   "file_extension": ".py",
   "mimetype": "text/x-python",
   "name": "python",
   "nbconvert_exporter": "python",
   "pygments_lexer": "ipython3",
   "version": "3.12.7"
  }
 },
 "nbformat": 4,
 "nbformat_minor": 5
}
