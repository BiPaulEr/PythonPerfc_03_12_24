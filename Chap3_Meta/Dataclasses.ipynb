{
 "cells": [
  {
   "cell_type": "code",
   "execution_count": 5,
   "id": "8af678ea-4006-4903-b263-d89bf5247af3",
   "metadata": {},
   "outputs": [],
   "source": [
    "class Vector2D:\n",
    "    def __init__(self, x, y):\n",
    "        self.x = x\n",
    "        self.y = y\n",
    "        \n",
    "    def __add__(self, other):\n",
    "        return Vector2D(self.x + other.x, self.y + other.y)\n",
    "\n",
    "    def __repr__(self):\n",
    "        return f\"Vector2D<{self.x},{self.y}>\"\n",
    "\n",
    "    def __eq__(self, other):\n",
    "        return self.x == other.x and self.y == other.y\n",
    "    \n",
    "\n",
    "vector1 = Vector2D(1, 2)\n",
    "vector2 = Vector2D(2, 2)\n",
    "    "
   ]
  },
  {
   "cell_type": "code",
   "execution_count": 6,
   "id": "9306dfb3-2240-4394-9790-7d10b244113c",
   "metadata": {},
   "outputs": [
    {
     "name": "stdout",
     "output_type": "stream",
     "text": [
      "Vector2D<1,2>\n",
      "Vector2D<3,4>\n"
     ]
    }
   ],
   "source": [
    "print(vector1)\n",
    "print(vector1 + vector2)\n"
   ]
  },
  {
   "cell_type": "code",
   "execution_count": 7,
   "id": "5198a4b7-03d8-4245-bb43-2e8786a71482",
   "metadata": {},
   "outputs": [
    {
     "name": "stdout",
     "output_type": "stream",
     "text": [
      "True\n"
     ]
    }
   ],
   "source": [
    "vector3 = Vector2D(2, 2)\n",
    "print(vector3 == vector2)"
   ]
  },
  {
   "cell_type": "code",
   "execution_count": null,
   "id": "e71d1fc7-3e61-4fd6-b75e-2c4048d287b0",
   "metadata": {},
   "outputs": [],
   "source": [
    "class Vector3D:\n",
    "    def __init__(self, x, y, z):\n",
    "        self.x = x\n",
    "        self.y = y\n",
    "        self.z = z\n",
    "        \n",
    "    def __add__(self, other):\n",
    "        return Vector3D(self.x + other.x, self.y + other.y, self.z + other.z)\n",
    "\n",
    "    def __repr__(self):\n",
    "        return f\"Vector3D<{self.x},{self.y}, {self.z}>\"\n",
    "\n",
    "    def __eq__(self, other):\n",
    "        return self.x == other.x and self.y == other.y and self.z == other.z"
   ]
  },
  {
   "cell_type": "code",
   "execution_count": 13,
   "id": "f9f62fe3-65cf-4c48-8ee2-b1e24067a7d6",
   "metadata": {},
   "outputs": [],
   "source": [
    "from dataclasses import dataclass\n",
    "\n",
    "@dataclass\n",
    "class Vector3D:\n",
    "    x : int\n",
    "    y : int\n",
    "    z : int\n",
    "    \n",
    "    def __add__(self, other):\n",
    "        return Vector3D(self.x + other.x, self.y + other.y, self.z + other.z)\n",
    "\n",
    "vector1 = Vector3D(1, 1, 1)\n",
    "vector2 = Vector3D(2, 2, 2)\n",
    "vector3 = Vector3D(1, 1, 1)"
   ]
  },
  {
   "cell_type": "code",
   "execution_count": 14,
   "id": "62d9cfe5-7da5-4a43-8f3d-b933d3ec1a77",
   "metadata": {},
   "outputs": [
    {
     "data": {
      "text/plain": [
       "True"
      ]
     },
     "execution_count": 14,
     "metadata": {},
     "output_type": "execute_result"
    }
   ],
   "source": [
    "vector1 == vector3"
   ]
  },
  {
   "cell_type": "code",
   "execution_count": 15,
   "id": "bc614ea3-9fa7-4596-92dd-a22268518a0f",
   "metadata": {},
   "outputs": [
    {
     "name": "stdout",
     "output_type": "stream",
     "text": [
      "Vector3D(x=1, y=1, z=1)\n"
     ]
    }
   ],
   "source": [
    "print(vector1)"
   ]
  },
  {
   "cell_type": "code",
   "execution_count": 16,
   "id": "357dcf18-7bee-40ac-b978-3a3985307bae",
   "metadata": {},
   "outputs": [
    {
     "data": {
      "text/plain": [
       "Vector3D(x=3, y=3, z=3)"
      ]
     },
     "execution_count": 16,
     "metadata": {},
     "output_type": "execute_result"
    }
   ],
   "source": [
    "vector1 + vector2"
   ]
  },
  {
   "cell_type": "code",
   "execution_count": 18,
   "id": "186bc969-bb9d-409f-a530-c79ea1b78c19",
   "metadata": {},
   "outputs": [],
   "source": [
    "#démonstration option frozen\n",
    "\n",
    "from dataclasses import dataclass\n",
    "\n",
    "@dataclass(frozen = True)\n",
    "class Point:\n",
    "    x : int\n",
    "    y : int\n",
    "\n",
    "point1 = Point(1, 1)\n"
   ]
  },
  {
   "cell_type": "code",
   "execution_count": 22,
   "id": "6bfefcff-7162-408a-bbf2-8d6645a8c8d2",
   "metadata": {},
   "outputs": [],
   "source": [
    "from contextlib import suppress\n",
    "from dataclasses import FrozenInstanceError\n",
    "with suppress(FrozenInstanceError):                      \n",
    "    point1.x = 4  # raise FrozenInstanceError"
   ]
  },
  {
   "cell_type": "code",
   "execution_count": 25,
   "id": "5d14fbe5-40cd-42a4-925b-2bbbb3896162",
   "metadata": {},
   "outputs": [
    {
     "name": "stdout",
     "output_type": "stream",
     "text": [
      "False\n"
     ]
    }
   ],
   "source": [
    "#option order\n",
    "from dataclasses import dataclass\n",
    "\n",
    "@dataclass(order = True)\n",
    "class Point:\n",
    "    x : int\n",
    "    y : int\n",
    "\n",
    "point1 = Point(4, 1)\n",
    "point2 = Point(2, 2)\n",
    "print(point1 < point2)"
   ]
  },
  {
   "cell_type": "code",
   "execution_count": 29,
   "id": "27e939d3-4ad9-4d63-8587-2afa014da8d1",
   "metadata": {},
   "outputs": [
    {
     "name": "stdout",
     "output_type": "stream",
     "text": [
      "Produit(nom='Produit Vaiselle', price=0, tva=20)\n"
     ]
    }
   ],
   "source": [
    "#option dans la definition des attributs : default\n",
    "\n",
    "from dataclasses import dataclass, field\n",
    "\n",
    "@dataclass\n",
    "class Produit:   \n",
    "    nom : str\n",
    "    price : float = 0\n",
    "    tva : float = field(default = 20)\n",
    "\n",
    "                 \n",
    "produit1 = Produit(\"Produit Vaiselle\")\n",
    "produit2 = Produit(\"Eponge\")\n",
    "print(produit1)"
   ]
  },
  {
   "cell_type": "code",
   "execution_count": 57,
   "id": "94e581d8-1b9c-420b-89e4-834f5fc4c168",
   "metadata": {},
   "outputs": [
    {
     "name": "stdout",
     "output_type": "stream",
     "text": [
      "ListProduit(nom=['Vaiselle plus cher'], price=[6.4])\n",
      "ListProduit(nom=['Vaiselle'], price=[3.4])\n"
     ]
    }
   ],
   "source": [
    "#option dans la definition des attributs : default factory\n",
    "\n",
    "from dataclasses import dataclass, field\n",
    "\n",
    "@dataclass\n",
    "class ListProduit:   \n",
    "    nom : list = field(default_factory=list)\n",
    "    price : list = field(default_factory=list)\n",
    "\n",
    "                 \n",
    "listproduit1 = ListProduit()\n",
    "listproduit2 = ListProduit()\n",
    "listproduit1.nom.append(\"Vaiselle\")\n",
    "listproduit1.price.append(3.4)\n",
    "listproduit2.nom.append(\"Vaiselle plus cher\")\n",
    "listproduit2.price.append(6.4)\n",
    "print(listproduit2)\n",
    "print(listproduit1)"
   ]
  },
  {
   "cell_type": "code",
   "execution_count": 33,
   "id": "729093d8-b364-4c5b-8a43-7438630c2af7",
   "metadata": {},
   "outputs": [],
   "source": [
    "liste = []\n",
    "liste.append(3)\n"
   ]
  },
  {
   "cell_type": "code",
   "execution_count": 43,
   "id": "a1af14ae-be20-4295-a3ae-4263f66470be",
   "metadata": {},
   "outputs": [
    {
     "name": "stdout",
     "output_type": "stream",
     "text": [
      "Config(nom='Martin', annee_exp=13, debug=False)\n"
     ]
    }
   ],
   "source": [
    "#option dans la definition des attributs : init, permet d'eviter linitiasion pour \n",
    "#un attribut qui dépend des autres, attention il faut quand meme l'initialisaer mais dans __post_init__\n",
    "@dataclass\n",
    "class Config:   \n",
    "    nom : str\n",
    "    annee_exp : int\n",
    "    debug : bool = field(init = False)\n",
    "\n",
    "    def __post_init__(self):\n",
    "        if (self.annee_exp > 9):\n",
    "            self.debug = False\n",
    "        else:\n",
    "            self.debug = True\n",
    "\n",
    "                 \n",
    "config = Config(\"Martin\", 13)\n",
    "print(config)"
   ]
  },
  {
   "cell_type": "code",
   "execution_count": 46,
   "id": "ad21e88f-e43b-45bf-bb37-34fc7953ecc2",
   "metadata": {},
   "outputs": [
    {
     "name": "stdout",
     "output_type": "stream",
     "text": [
      "False\n"
     ]
    }
   ],
   "source": [
    "#option order\n",
    "@dataclass(order=True)\n",
    "class Produit:\n",
    "    prix: float = field(compare=False)\n",
    "    nom: str\n",
    "\n",
    "p1 = Produit(prix=20.0, nom=\"Produit A\")\n",
    "p2 = Produit(prix=15.0, nom=\"Produit B\")\n",
    "\n",
    "print(p1 > p2) #False \"A\" > \"B\""
   ]
  },
  {
   "cell_type": "code",
   "execution_count": 51,
   "id": "96af20db-8937-47a1-a740-e9170e90062b",
   "metadata": {},
   "outputs": [
    {
     "name": "stdout",
     "output_type": "stream",
     "text": [
      "User(user='Paul')\n"
     ]
    }
   ],
   "source": [
    "#option repr\n",
    "@dataclass\n",
    "class User:\n",
    "    user: str \n",
    "    password : str = field(repr=False)\n",
    "\n",
    "user1 = User(\"Paul\", \"Eponge\")\n",
    "\n",
    "print(user1) "
   ]
  },
  {
   "cell_type": "code",
   "execution_count": 76,
   "id": "902ce134-0628-4aab-8e12-d718c56db257",
   "metadata": {},
   "outputs": [
    {
     "name": "stdout",
     "output_type": "stream",
     "text": [
      "Produit(nom='Produit A', categorie='Électronique', quantite_stock=3)\n"
     ]
    }
   ],
   "source": [
    "#Correction dataclasses\n",
    "\n",
    "@dataclass(order = True)\n",
    "class Produit:\n",
    "    nom : str = field(compare=False)\n",
    "    prix : float = field(repr = False)\n",
    "    categorie : str\n",
    "    quantite_stock : int = field(init=False)\n",
    "\n",
    "    def __post_init__(self):\n",
    "        self.quantite_stock = 0\n",
    "\n",
    "produit1 =  Produit(\"Produit A\", 20.0, \"Électronique\")\n",
    "produit2 = Produit(\"Produit B\", 10.0, \"Maison\")\n",
    "produit3 = Produit(\"Produit A\", 20.0, \"Électronique\")\n",
    "\n",
    "produit1.quantite_stock = 3\n",
    "\n",
    "print(produit1)\n"
   ]
  },
  {
   "cell_type": "code",
   "execution_count": 67,
   "id": "cc87c5cd-8c4b-4d39-87b1-e9f0c7f99bc0",
   "metadata": {},
   "outputs": [
    {
     "data": {
      "text/plain": [
       "False"
      ]
     },
     "execution_count": 67,
     "metadata": {},
     "output_type": "execute_result"
    }
   ],
   "source": [
    "produit1 < produit2"
   ]
  },
  {
   "cell_type": "code",
   "execution_count": null,
   "id": "943a27ed-50cf-459a-b6b4-d79689267383",
   "metadata": {},
   "outputs": [],
   "source": []
  }
 ],
 "metadata": {
  "kernelspec": {
   "display_name": "Python 3 (ipykernel)",
   "language": "python",
   "name": "python3"
  },
  "language_info": {
   "codemirror_mode": {
    "name": "ipython",
    "version": 3
   },
   "file_extension": ".py",
   "mimetype": "text/x-python",
   "name": "python",
   "nbconvert_exporter": "python",
   "pygments_lexer": "ipython3",
   "version": "3.12.7"
  }
 },
 "nbformat": 4,
 "nbformat_minor": 5
}
