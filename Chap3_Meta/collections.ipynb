{
 "cells": [
  {
   "cell_type": "code",
   "execution_count": 2,
   "id": "e252325f-c156-48bb-93db-869e03b38d17",
   "metadata": {},
   "outputs": [],
   "source": [
    "dictionnaire = {\"cle1\" : \"valeur1\", \"cle3\" : \"valeur1\"}\n"
   ]
  },
  {
   "cell_type": "code",
   "execution_count": 4,
   "id": "ee75bbd3-a97b-4475-b17f-8d972add240c",
   "metadata": {},
   "outputs": [],
   "source": [
    "dictionnaire[\"cle2\"] = \"23\"\n",
    "dictionnaire.__setitem__(\"cle2\", \"23\")"
   ]
  },
  {
   "cell_type": "code",
   "execution_count": 12,
   "id": "49ae2226-26dc-49ba-8f8c-f9306487f0be",
   "metadata": {},
   "outputs": [
    {
     "name": "stdout",
     "output_type": "stream",
     "text": [
      "{}\n"
     ]
    }
   ],
   "source": [
    "class MyDict(dict):\n",
    "    def __setitem__(self, key, value):\n",
    "        print(f\"Setting {key} by {value}\")\n",
    "        super().__setitem__(key, value)\n",
    "\n",
    "d = MyDict()\n",
    "print(d)"
   ]
  },
  {
   "cell_type": "code",
   "execution_count": 13,
   "id": "e074618e-21bf-4e8b-a98c-a774963ae2ba",
   "metadata": {},
   "outputs": [
    {
     "name": "stdout",
     "output_type": "stream",
     "text": [
      "Setting cle1 by valeur1\n"
     ]
    }
   ],
   "source": [
    "d[\"cle1\"] = \"valeur1\""
   ]
  },
  {
   "cell_type": "code",
   "execution_count": 14,
   "id": "f469ba0c-13fb-4bfd-b8c3-bfb0190d388c",
   "metadata": {},
   "outputs": [
    {
     "name": "stdout",
     "output_type": "stream",
     "text": [
      "{'cle1': 'valeur1'}\n"
     ]
    }
   ],
   "source": [
    "print(d)"
   ]
  },
  {
   "cell_type": "code",
   "execution_count": 15,
   "id": "b693ab04-7ce7-486e-b9ef-cb7e546d278b",
   "metadata": {},
   "outputs": [
    {
     "name": "stdout",
     "output_type": "stream",
     "text": [
      "Setting cle2 by valeur2\n"
     ]
    }
   ],
   "source": [
    "d[\"cle2\"] = \"valeur2\""
   ]
  },
  {
   "cell_type": "code",
   "execution_count": 16,
   "id": "3a0980b5-41be-4558-99b9-da2ca4f739e9",
   "metadata": {},
   "outputs": [
    {
     "name": "stdout",
     "output_type": "stream",
     "text": [
      "{'cle1': 'valeur1', 'cle2': 'valeur2'}\n"
     ]
    }
   ],
   "source": [
    "print(d)"
   ]
  },
  {
   "cell_type": "code",
   "execution_count": 10,
   "id": "f960af86-f414-4414-9d51-c9ae304af3ab",
   "metadata": {},
   "outputs": [
    {
     "name": "stdout",
     "output_type": "stream",
     "text": [
      "{'cle1': 'valeur1', 'cle2': 'valeur2', 'cle3': 'valeur3', 'cle4': 'valeur4'}\n"
     ]
    }
   ],
   "source": [
    "d.update( {\"cle3\": \"valeur3\", \"cle4\" : \"valeur4\"})\n",
    "print(d)"
   ]
  },
  {
   "cell_type": "code",
   "execution_count": 11,
   "id": "a39d5399-8a34-4422-a17e-bffe80c8587b",
   "metadata": {},
   "outputs": [
    {
     "name": "stdout",
     "output_type": "stream",
     "text": [
      "Setting cle1 by valeur1\n",
      "Setting cle2 by valeur2\n",
      "Setting cle3 by valeur3\n",
      "Setting cle4 by valeur4\n",
      "{'cle1': 'valeur1', 'cle2': 'valeur2', 'cle3': 'valeur3', 'cle4': 'valeur4'}\n"
     ]
    }
   ],
   "source": [
    "from collections import UserDict\n",
    "class MyDict(UserDict):\n",
    "    def __setitem__(self, key, value):\n",
    "        print(f\"Setting {key} by {value}\")\n",
    "        super().__setitem__(key, value)\n",
    "\n",
    "d = MyDict()\n",
    "d[\"cle1\"] = \"valeur1\"\n",
    "d[\"cle2\"] = \"valeur2\"\n",
    "d.update( {\"cle3\": \"valeur3\", \"cle4\" : \"valeur4\"})\n",
    "print(d)"
   ]
  },
  {
   "cell_type": "code",
   "execution_count": 17,
   "id": "7de3a7f8-4a00-45ad-b4ce-9c80f3374269",
   "metadata": {},
   "outputs": [
    {
     "name": "stdout",
     "output_type": "stream",
     "text": [
      "{'cle1': 'valeur1', 'cle2': 'valeur2'}\n"
     ]
    }
   ],
   "source": [
    "#\n",
    "\n",
    "class DistinctDict(UserDict):\n",
    "    def __setitem__(self, key, value):\n",
    "        if value in self.values():\n",
    "            print(f\"NON valeur {value} déja présente\")\n",
    "        else:\n",
    "            super().__setitem__(key, value)\n",
    "\n",
    "dd = DistinctDict({\"cle1\": \"valeur1\", \"cle2\" : \"valeur2\"})\n",
    "print(dd) "
   ]
  },
  {
   "cell_type": "code",
   "execution_count": 18,
   "id": "74da7f8c-b459-4ec5-be42-e0a342c1c3d2",
   "metadata": {},
   "outputs": [
    {
     "name": "stdout",
     "output_type": "stream",
     "text": [
      "NON valeur valeur1 déja présente\n"
     ]
    }
   ],
   "source": [
    "dd[\"cle4\"] = \"valeur1\""
   ]
  },
  {
   "cell_type": "code",
   "execution_count": 19,
   "id": "b48b9aba-e5d6-4115-acbc-349fdc30bba8",
   "metadata": {},
   "outputs": [
    {
     "name": "stdout",
     "output_type": "stream",
     "text": [
      "{'cle1': 'valeur1', 'cle2': 'valeur2'}\n"
     ]
    }
   ],
   "source": [
    "print(dd)"
   ]
  },
  {
   "cell_type": "code",
   "execution_count": null,
   "id": "648520bd-3cd1-4e40-936e-28eb2ac55f0f",
   "metadata": {},
   "outputs": [],
   "source": []
  }
 ],
 "metadata": {
  "kernelspec": {
   "display_name": "Python 3 (ipykernel)",
   "language": "python",
   "name": "python3"
  },
  "language_info": {
   "codemirror_mode": {
    "name": "ipython",
    "version": 3
   },
   "file_extension": ".py",
   "mimetype": "text/x-python",
   "name": "python",
   "nbconvert_exporter": "python",
   "pygments_lexer": "ipython3",
   "version": "3.12.7"
  }
 },
 "nbformat": 4,
 "nbformat_minor": 5
}
