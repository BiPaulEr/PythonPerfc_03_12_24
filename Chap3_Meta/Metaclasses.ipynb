{
 "cells": [
  {
   "cell_type": "code",
   "execution_count": 6,
   "id": "05642c36-2ef9-4aa1-b969-1949befc325c",
   "metadata": {},
   "outputs": [],
   "source": [
    "#demonstration __new__ called before __init__\n",
    "class MyClass:\n",
    "    def __new__(cls, *args, **kwargs):\n",
    "            print(\"new() is called\", cls, args, kwargs)\n",
    "            instance = super().__new__(cls)\n",
    "            print(f\" instance {instance}\")\n",
    "            return instance\n",
    "\n",
    "    def __init__(self, attribute):\n",
    "        print('__init__()', self, attribute)\n",
    "        self.attribute = attribute"
   ]
  },
  {
   "cell_type": "code",
   "execution_count": 7,
   "id": "c62a3d85-05ee-4a9a-b2a2-4408a838b9bc",
   "metadata": {},
   "outputs": [
    {
     "name": "stdout",
     "output_type": "stream",
     "text": [
      "new() is called <class '__main__.MyClass'> ('Bonjour',) {}\n",
      " instance <__main__.MyClass object at 0x0000013BCF40FC80>\n",
      "__init__() <__main__.MyClass object at 0x0000013BCF40FC80> Bonjour\n"
     ]
    }
   ],
   "source": [
    "myclass = MyClass(\"Bonjour\")"
   ]
  },
  {
   "cell_type": "code",
   "execution_count": 19,
   "id": "b0fd0df6-1c48-4403-a029-a8e68013ab26",
   "metadata": {},
   "outputs": [
    {
     "name": "stdout",
     "output_type": "stream",
     "text": [
      "new() is called <class '__main__.CountInstanceClass'> ('Bonjour',) {}\n",
      " instance <__main__.CountInstanceClass object at 0x0000013BCF56A930>\n",
      "__init__() <__main__.CountInstanceClass object at 0x0000013BCF56A930> Bonjour\n",
      "new() is called <class '__main__.CountInstanceClass'> ('Bonjour',) {}\n",
      " instance <__main__.CountInstanceClass object at 0x0000013BCF46E030>\n",
      "__init__() <__main__.CountInstanceClass object at 0x0000013BCF46E030> Bonjour\n",
      "new() is called <class '__main__.CountInstanceClass'> ('Bonjour',) {}\n",
      " instance <__main__.CountInstanceClass object at 0x0000013BCF46FC50>\n",
      "__init__() <__main__.CountInstanceClass object at 0x0000013BCF46FC50> Bonjour\n",
      "3\n"
     ]
    }
   ],
   "source": [
    "#demonstration uses case of __new__\n",
    "class CountInstanceClass:\n",
    "    instance_created = 0\n",
    "    def __new__(cls, *args, **kwargs):\n",
    "            print(\"new() is called\", cls, args, kwargs)\n",
    "            instance = super().__new__(cls)\n",
    "            print(f\" instance {instance}\")\n",
    "            cls.instance_created += 1\n",
    "            return instance\n",
    "\n",
    "    def __init__(self, attribute):\n",
    "        print('__init__()', self, attribute)\n",
    "        self.attribute = attribute\n",
    "        \n",
    "myclass = CountInstanceClass(\"Bonjour\") \n",
    "myclass2 = CountInstanceClass(\"Bonjour\") \n",
    "myclass3 = CountInstanceClass(\"Bonjour\") \n",
    "print(CountInstanceClass.instance_created)"
   ]
  },
  {
   "cell_type": "code",
   "execution_count": 28,
   "id": "0bc099c8-3c55-40af-a291-d31e390df1dc",
   "metadata": {},
   "outputs": [
    {
     "name": "stdout",
     "output_type": "stream",
     "text": [
      "True\n",
      "<__main__.Singleton object at 0x0000013BCE11E8A0>\n",
      "<__main__.Singleton object at 0x0000013BCE11E8A0>\n"
     ]
    }
   ],
   "source": [
    "#demonstration uses case of __new__\n",
    "class Singleton:\n",
    "    _instance = None\n",
    "    def __new__(cls, *args, **kwargs):\n",
    "        if not cls._instance:\n",
    "            cls._instance = super().__new__(cls)\n",
    "        return cls._instance\n",
    "a = Singleton()\n",
    "b = Singleton()\n",
    "print(a == b) #True\n",
    "print(a)\n",
    "print(b)"
   ]
  },
  {
   "cell_type": "code",
   "execution_count": 21,
   "id": "d3daf8fe-58e5-40a3-83e4-967f9de29e41",
   "metadata": {},
   "outputs": [
    {
     "name": "stdout",
     "output_type": "stream",
     "text": [
      "<class '__main__.CountInstanceClass'>\n"
     ]
    }
   ],
   "source": [
    "#demonstration each class is a type\n",
    "print(type(myclass3))"
   ]
  },
  {
   "cell_type": "code",
   "execution_count": 22,
   "id": "757aef29-5ae1-4645-ae11-aab275ff722a",
   "metadata": {},
   "outputs": [],
   "source": [
    "a = int(3)"
   ]
  },
  {
   "cell_type": "code",
   "execution_count": 23,
   "id": "1965f94e-e022-4bbf-8fd0-3dffc0e0fdfe",
   "metadata": {},
   "outputs": [
    {
     "name": "stdout",
     "output_type": "stream",
     "text": [
      "<class 'int'>\n"
     ]
    }
   ],
   "source": [
    "print(type(a))"
   ]
  },
  {
   "cell_type": "code",
   "execution_count": 24,
   "id": "b856aee0-6d2d-41be-b393-8d274da2751e",
   "metadata": {},
   "outputs": [
    {
     "name": "stdout",
     "output_type": "stream",
     "text": [
      "<class 'type'>\n"
     ]
    }
   ],
   "source": [
    "print(type(CountInstanceClass))"
   ]
  },
  {
   "cell_type": "code",
   "execution_count": 25,
   "id": "8e8c7111-cc33-4977-b182-935f0e579908",
   "metadata": {},
   "outputs": [
    {
     "name": "stdout",
     "output_type": "stream",
     "text": [
      "(<class 'type'>, <class 'object'>)\n"
     ]
    }
   ],
   "source": [
    "print(type.__class__.__mro__)"
   ]
  },
  {
   "cell_type": "code",
   "execution_count": 26,
   "id": "13a98293-ba10-4c61-9225-c2b21fdec77f",
   "metadata": {},
   "outputs": [
    {
     "name": "stdout",
     "output_type": "stream",
     "text": [
      "<class '__main__.MyClass'>\n",
      "<class 'type'>\n",
      "{}\n",
      "{'__module__': '__main__', 'methode': <function MyClass.methode at 0x0000013BCF4CB9C0>, '__dict__': <attribute '__dict__' of 'MyClass' objects>, '__weakref__': <attribute '__weakref__' of 'MyClass' objects>, '__doc__': None}\n"
     ]
    }
   ],
   "source": [
    "class MyClass:\n",
    "    def methode(self):\n",
    "        return 1\n",
    "m = MyClass()\n",
    "print(type(m))\n",
    "print(type(MyClass))\n",
    "print(m.__dict__)\n",
    "print(MyClass.__dict__)"
   ]
  },
  {
   "cell_type": "code",
   "execution_count": 27,
   "id": "20f810de-5c16-44ad-9210-6e9b6b25d039",
   "metadata": {
    "scrolled": true
   },
   "outputs": [
    {
     "name": "stdout",
     "output_type": "stream",
     "text": [
      "<class '__main__.MyClass2'>\n",
      "<class 'type'>\n",
      "{}\n",
      "{'methode': <function methode at 0x0000013BCF4CB600>, '__module__': '__main__', '__dict__': <attribute '__dict__' of 'MyClass2' objects>, '__weakref__': <attribute '__weakref__' of 'MyClass2' objects>, '__doc__': None}\n"
     ]
    }
   ],
   "source": [
    "def methode(self):\n",
    "    return 1\n",
    "MyClass2 = type(\"MyClass2\", (object,), {\"methode\" : methode})\n",
    "m = MyClass2()\n",
    "print(type(m))\n",
    "print(type(MyClass2))\n",
    "print(m.__dict__)\n",
    "print(MyClass2.__dict__)"
   ]
  },
  {
   "cell_type": "code",
   "execution_count": 32,
   "id": "3372d4f3-b404-4614-b5de-e226f333ba57",
   "metadata": {},
   "outputs": [
    {
     "name": "stdout",
     "output_type": "stream",
     "text": [
      "<class '__main__.RevealingMeta'> __prepare__ called\n",
      "<class '__main__.RevealingMeta'> __new__ called\n",
      "<class '__main__.MyClass'> __init__ called\n"
     ]
    }
   ],
   "source": [
    "class RevealingMeta(type):\n",
    "    \n",
    "    @classmethod\n",
    "    def __prepare__(mcs, name, bases, **kwargs):\n",
    "        print(mcs, \"__prepare__ called\")\n",
    "        return super().__prepare__(name, bases, **kwargs)\n",
    "        \n",
    "    def __new__(mcs, name, bases, namespace, **kwargs):\n",
    "        print(mcs, \"__new__ called\")\n",
    "        return super().__new__(mcs, name, bases, namespace)\n",
    "        \n",
    "    def __init__(cls, name, bases, namespace, **kwargs):\n",
    "        print(cls, \"__init__ called\")\n",
    "        super().__init__(name, bases, namespace)\n",
    "        \n",
    "    def __call__(cls, *args, **kwargs):\n",
    "        print(cls, \"__call__ called\")\n",
    "        return super().__call__(*args, **kwargs)\n",
    "\n",
    "class MyClass(metaclass = RevealingMeta):\n",
    "    def __new__(cls, *args, **kwargs):\n",
    "            print(\"new() is called\", cls, args, kwargs)\n",
    "            instance = super().__new__(cls)\n",
    "            return instance\n",
    "\n",
    "    def __init__(self, attribute):\n",
    "        print('__init__()', self, attribute)\n",
    "        self.attribute = attribute\n"
   ]
  },
  {
   "cell_type": "code",
   "execution_count": 33,
   "id": "1882c35a-7f2f-42cb-9da2-8961c317be42",
   "metadata": {},
   "outputs": [
    {
     "name": "stdout",
     "output_type": "stream",
     "text": [
      "<class '__main__.MyClass'> __call__ called\n",
      "new() is called <class '__main__.MyClass'> ('OK',) {}\n",
      "__init__() <__main__.MyClass object at 0x0000013BCF4410D0> OK\n"
     ]
    }
   ],
   "source": [
    "myinstance = MyClass(\"OK\")"
   ]
  },
  {
   "cell_type": "code",
   "execution_count": 51,
   "id": "ddb39dd5-75a2-4636-bcbf-d73c90d4582f",
   "metadata": {},
   "outputs": [
    {
     "name": "stdout",
     "output_type": "stream",
     "text": [
      "<class '__main__.PluginBase'> __init__ called\n",
      "<class '__main__.HealthPlugin'> __init__ called\n",
      "<class '__main__.InventoryPlugin'> __init__ called\n",
      "{'HealthPlugin': <class '__main__.HealthPlugin'>, 'InventoryPlugin': <class '__main__.InventoryPlugin'>}\n"
     ]
    }
   ],
   "source": [
    "class PluginMeta(type):\n",
    "    plugins = {}\n",
    "    def __new__(mcs, name, bases, namespace):\n",
    "            namespace[\"Vendredi\"] = lambda :print(\"Bonjuour\")\n",
    "            cls = super().__new__(mcs, name, bases, namespace)\n",
    "            if name != 'PluginBase':\n",
    "                    # Enregistrement automatique du plugin\n",
    "                    PluginMeta.plugins[name] = cls\n",
    "           \n",
    "            return cls\n",
    "    def __init__(cls, name, bases, namespace, **kwargs):\n",
    "        print(cls, \"__init__ called\")\n",
    "        super().__init__(name, bases, namespace)\n",
    "        \n",
    "        \n",
    "class PluginBase(metaclass=PluginMeta):\n",
    "    pass\n",
    "class HealthPlugin(PluginBase):\n",
    "    pass\n",
    "class InventoryPlugin(PluginBase):\n",
    "    pass\n",
    "# Les plugins sont automatiquement enregistrés et peuvent être accédés\n",
    "print(PluginMeta.plugins)  # Affiche les plugins enregistrés"
   ]
  },
  {
   "cell_type": "code",
   "execution_count": 52,
   "id": "035eee2d-a34e-43f3-8b52-98aea954466d",
   "metadata": {},
   "outputs": [
    {
     "name": "stdout",
     "output_type": "stream",
     "text": [
      "{'__module__': '__main__', 'Vendredi': <function PluginMeta.__new__.<locals>.<lambda> at 0x0000013BCFAFD120>, '__doc__': None}\n",
      "{}\n"
     ]
    }
   ],
   "source": [
    "print(HealthPlugin.__dict__)\n",
    "h = HealthPlugin()\n",
    "print(h.__dict__)"
   ]
  },
  {
   "cell_type": "code",
   "execution_count": 54,
   "id": "6035d710-b45f-478f-962e-34c5e323792e",
   "metadata": {},
   "outputs": [
    {
     "name": "stdout",
     "output_type": "stream",
     "text": [
      "Bonjuour\n",
      "None\n"
     ]
    }
   ],
   "source": [
    "print(HealthPlugin.Vendredi())\n"
   ]
  },
  {
   "cell_type": "code",
   "execution_count": 47,
   "id": "0602ed3e-6b18-43c8-8957-03638669e1c1",
   "metadata": {},
   "outputs": [
    {
     "ename": "AttributeError",
     "evalue": "'HealthPlugin' object has no attribute 'Vendredi'",
     "output_type": "error",
     "traceback": [
      "\u001b[1;31m---------------------------------------------------------------------------\u001b[0m",
      "\u001b[1;31mAttributeError\u001b[0m                            Traceback (most recent call last)",
      "Cell \u001b[1;32mIn[47], line 1\u001b[0m\n\u001b[1;32m----> 1\u001b[0m \u001b[38;5;28mprint\u001b[39m(\u001b[43mh\u001b[49m\u001b[38;5;241;43m.\u001b[39;49m\u001b[43mVendredi\u001b[49m)\n",
      "\u001b[1;31mAttributeError\u001b[0m: 'HealthPlugin' object has no attribute 'Vendredi'"
     ]
    }
   ],
   "source": []
  },
  {
   "cell_type": "code",
   "execution_count": null,
   "id": "80899bd4-9660-4a06-97e8-838c48a02612",
   "metadata": {},
   "outputs": [],
   "source": []
  }
 ],
 "metadata": {
  "kernelspec": {
   "display_name": "Python 3 (ipykernel)",
   "language": "python",
   "name": "python3"
  },
  "language_info": {
   "codemirror_mode": {
    "name": "ipython",
    "version": 3
   },
   "file_extension": ".py",
   "mimetype": "text/x-python",
   "name": "python",
   "nbconvert_exporter": "python",
   "pygments_lexer": "ipython3",
   "version": "3.12.7"
  }
 },
 "nbformat": 4,
 "nbformat_minor": 5
}
