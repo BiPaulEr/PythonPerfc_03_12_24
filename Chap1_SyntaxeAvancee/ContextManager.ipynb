{
 "cells": [
  {
   "cell_type": "code",
   "execution_count": 1,
   "id": "aeaf8f73-58d3-4b4b-96b5-b16483f0ddc4",
   "metadata": {},
   "outputs": [
    {
     "name": "stdout",
     "output_type": "stream",
     "text": [
      "ligne 1\n",
      "Ligne 2\n",
      "Ligne 3\n",
      "END\n"
     ]
    }
   ],
   "source": [
    "file = open(\"./fichier.txt\")\n",
    "try:\n",
    "    for line in file:\n",
    "        print(line.strip())\n",
    "finally:\n",
    "    file.close()\n",
    "    \n"
   ]
  },
  {
   "cell_type": "code",
   "execution_count": 7,
   "id": "6366bcbe-6328-4232-8f7c-3026420ae645",
   "metadata": {},
   "outputs": [
    {
     "name": "stdout",
     "output_type": "stream",
     "text": [
      "ligne 1\n",
      "Ligne 2\n",
      "Ligne 3\n",
      "END\n",
      "end\n"
     ]
    }
   ],
   "source": [
    "file = open(\"./fichier.txt\")\n",
    "try:\n",
    "    for line in file:\n",
    "        print(line.strip())\n",
    "finally:\n",
    "    print(\"end\")\n",
    "    file.close()\n",
    "    "
   ]
  },
  {
   "cell_type": "code",
   "execution_count": 4,
   "id": "1bb7cef4-d6fe-4e10-a58e-914974e77155",
   "metadata": {},
   "outputs": [
    {
     "name": "stdout",
     "output_type": "stream",
     "text": [
      "ligne 1\n",
      "Ligne 2\n",
      "Ligne 3\n",
      "END\n",
      "le fichier est automatiquement fermée\n"
     ]
    }
   ],
   "source": [
    "with open(\"./fichier.txt\") as file:\n",
    "    for line in file:\n",
    "        print(line.strip())\n",
    "\n",
    "print(\"le fichier est automatiquement fermée\")"
   ]
  },
  {
   "cell_type": "code",
   "execution_count": 9,
   "id": "4833f024-f18b-456f-8b17-dd1c33a0bf92",
   "metadata": {},
   "outputs": [
    {
     "name": "stdout",
     "output_type": "stream",
     "text": [
      "Préparaton du context\n",
      "Je suis dans le contexte\n",
      "Quitter le contexte\n",
      "Le type de l'exception <class 'Exception'> Erreur dans le contexte\n",
      "Erreur dans le contexte\n",
      "Hors Contexte\n"
     ]
    }
   ],
   "source": [
    "class IllustrationDuContext:\n",
    "    def __enter__(self):\n",
    "        print(\"Préparaton du context\")\n",
    "        \n",
    "    def __exit__(self, exc_type, exc_inst, traceback):\n",
    "        print(\"Quitter le contexte\")\n",
    "        if exc_type is None:\n",
    "            print(\"Pas d'exeception dans le code\")\n",
    "        else:\n",
    "            print(f\"Le type de l'exception {exc_type} {exc_inst}\")\n",
    "            print(f\"{exc_inst}\")\n",
    "        return True\n",
    "\n"
   ]
  },
  {
   "cell_type": "code",
   "execution_count": 10,
   "id": "8b6b1ab0-8083-46a4-8cc2-35c259f0944d",
   "metadata": {},
   "outputs": [
    {
     "name": "stdout",
     "output_type": "stream",
     "text": [
      "Préparaton du context\n",
      "Je suis dans le contexte\n",
      "Je suis dans le contexte\n",
      "Quitter le contexte\n",
      "Pas d'exeception dans le code\n",
      "Hors Contexte\n"
     ]
    }
   ],
   "source": [
    "with IllustrationDuContext():\n",
    "    print(\"Je suis dans le contexte\")\n",
    "    print(\"Je suis dans le contexte\")\n",
    "    \n",
    "print(\"Hors Contexte\")"
   ]
  },
  {
   "cell_type": "code",
   "execution_count": 11,
   "id": "ef36923d-e05b-4e91-a01b-abd4e3fd18bb",
   "metadata": {},
   "outputs": [
    {
     "name": "stdout",
     "output_type": "stream",
     "text": [
      "Préparaton du context\n",
      "Je suis dans le contexte\n",
      "Quitter le contexte\n",
      "Le type de l'exception <class 'Exception'> Erreur dans le contexte\n",
      "Erreur dans le contexte\n",
      "Hors Contexte\n"
     ]
    }
   ],
   "source": [
    "with IllustrationDuContext():\n",
    "    print(\"Je suis dans le contexte\")\n",
    "    raise Exception(\"Erreur dans le contexte\")\n",
    "    print(\"Je suis dans le contexte\")\n",
    "    \n",
    "print(\"Hors Contexte\")"
   ]
  },
  {
   "cell_type": "code",
   "execution_count": 17,
   "id": "654a28b9-5d01-41b6-8122-1580fbe3a1e6",
   "metadata": {},
   "outputs": [
    {
     "name": "stdout",
     "output_type": "stream",
     "text": [
      "Préparaton du context\n",
      "Je suis dans le contexte\n",
      "Quitter le contexte\n",
      "Le type de l'exception <class 'Exception'> Erreur dans le code\n",
      "Erreur dans le code\n",
      "Hors Contexte\n"
     ]
    }
   ],
   "source": [
    "class IllustrationDuContextExplicationValeurDeRetourExit:\n",
    "    def __enter__(self):\n",
    "        print(\"Préparaton du context\")\n",
    "        \n",
    "    def __exit__(self, exc_type, exc_inst, traceback):\n",
    "        print(\"Quitter le contexte\")\n",
    "        if exc_type is None:\n",
    "            print(\"Pas d'exeception dans le code\")\n",
    "        else:\n",
    "            print(f\"Le type de l'exception {exc_type} {exc_inst}\")\n",
    "            print(f\"{exc_inst}\")\n",
    "        return True\n",
    "        \n",
    "with IllustrationDuContextExplicationValeurDeRetourExit():\n",
    "    print(\"Je suis dans le contexte\")\n",
    "    raise Exception(\"Erreur dans le code\")\n",
    "    print(\"Je suis dans le contexte\")\n",
    "    \n",
    "print(\"Hors Contexte\")"
   ]
  },
  {
   "cell_type": "code",
   "execution_count": 18,
   "id": "fd9c52dd-e2e0-4869-9999-85be3a9b4025",
   "metadata": {},
   "outputs": [
    {
     "name": "stdout",
     "output_type": "stream",
     "text": [
      "Préparaton du context\n",
      "Object qui va etre disponible dans le contexte\n",
      "Je suis dans le contexte\n",
      "Je suis dans le contexte\n",
      "Quitter le contexte\n",
      "Pas d'exeception dans le code\n",
      "Hors Contexte\n"
     ]
    }
   ],
   "source": [
    "class IllustrationDuContextExplicationAs:\n",
    "    def __enter__(self):\n",
    "        print(\"Préparaton du context\")\n",
    "        return \"Object qui va etre disponible dans le contexte\"\n",
    "        \n",
    "    def __exit__(self, exc_type, exc_inst, traceback):\n",
    "        print(\"Quitter le contexte\")\n",
    "        if exc_type is None:\n",
    "            print(\"Pas d'exeception dans le code\")\n",
    "        else:\n",
    "            print(f\"Le type de l'exception {exc_type} {exc_inst}\")\n",
    "            print(f\"{exc_inst}\")\n",
    "        return True\n",
    "        \n",
    "with IllustrationDuContextExplicationAs() as object_disponible_dans_le_contexte:\n",
    "    print(object_disponible_dans_le_contexte)\n",
    "    print(\"Je suis dans le contexte\")\n",
    "    print(\"Je suis dans le contexte\")\n",
    "    \n",
    "print(\"Hors Contexte\")"
   ]
  },
  {
   "cell_type": "code",
   "execution_count": 22,
   "id": "438f7822-03bc-4607-b7c3-a72f5103d5d1",
   "metadata": {},
   "outputs": [
    {
     "name": "stdout",
     "output_type": "stream",
     "text": [
      "Le type de l'exception <class 'Exception'> ERREUR\n",
      "ERREUR\n"
     ]
    }
   ],
   "source": [
    "#faire notre porpore gestionnaire de contexte pour les files\n",
    "\"\"\"\n",
    "file = open(\"./fichier.txt\")\n",
    "try:\n",
    "    for line in file:\n",
    "        print(line.strip())\n",
    "finally:\n",
    "    file.close()\n",
    "\"\"\"\n",
    "class FileContextManager:\n",
    "    def __init__(self, fichier_path):\n",
    "        self.fichier_path = fichier_path\n",
    "        \n",
    "    def __enter__(self):\n",
    "        self.file = open(self.fichier_path)\n",
    "        return self.file\n",
    "        \n",
    "    def __exit__(self, exc_type, exc_inst, traceback):\n",
    "        self.file.close()\n",
    "        if exc_type is None:\n",
    "            print(\"Pas d'exeception dans le code\")\n",
    "        else:\n",
    "            print(f\"Le type de l'exception {exc_type} {exc_inst}\")\n",
    "            print(f\"{exc_inst}\")\n",
    "        return True\n",
    "        \n",
    "with FileContextManager(\"./fichier.txt\") as file:\n",
    "    raise Exception(\"ERREUR\")\n",
    "    for line in file:\n",
    "        print(line.strip())"
   ]
  },
  {
   "cell_type": "code",
   "execution_count": null,
   "id": "f33922f9-7b95-443b-a5d1-44dfbc113eb1",
   "metadata": {},
   "outputs": [],
   "source": []
  }
 ],
 "metadata": {
  "kernelspec": {
   "display_name": "Python 3 (ipykernel)",
   "language": "python",
   "name": "python3"
  },
  "language_info": {
   "codemirror_mode": {
    "name": "ipython",
    "version": 3
   },
   "file_extension": ".py",
   "mimetype": "text/x-python",
   "name": "python",
   "nbconvert_exporter": "python",
   "pygments_lexer": "ipython3",
   "version": "3.12.7"
  }
 },
 "nbformat": 4,
 "nbformat_minor": 5
}
