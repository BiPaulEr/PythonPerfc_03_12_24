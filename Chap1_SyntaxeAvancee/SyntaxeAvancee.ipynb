{
 "cells": [
  {
   "cell_type": "code",
   "execution_count": 6,
   "id": "60ec5698-51f7-41fa-88bd-b9cda18faa8a",
   "metadata": {},
   "outputs": [],
   "source": [
    "i = iter(\"abcde\")"
   ]
  },
  {
   "cell_type": "code",
   "execution_count": 7,
   "id": "d997d8fc-9e6e-4894-98e3-eca8dfd485fd",
   "metadata": {},
   "outputs": [
    {
     "data": {
      "text/plain": [
       "'a'"
      ]
     },
     "execution_count": 7,
     "metadata": {},
     "output_type": "execute_result"
    }
   ],
   "source": [
    "next(i)"
   ]
  },
  {
   "cell_type": "code",
   "execution_count": 8,
   "id": "f676c56f-ea83-440b-a443-bb3a9151101c",
   "metadata": {},
   "outputs": [
    {
     "data": {
      "text/plain": [
       "'b'"
      ]
     },
     "execution_count": 8,
     "metadata": {},
     "output_type": "execute_result"
    }
   ],
   "source": [
    "next(i)"
   ]
  },
  {
   "cell_type": "code",
   "execution_count": 9,
   "id": "91f5c981-b58b-4e8e-9d0e-9b74e8b9df4d",
   "metadata": {},
   "outputs": [
    {
     "data": {
      "text/plain": [
       "'c'"
      ]
     },
     "execution_count": 9,
     "metadata": {},
     "output_type": "execute_result"
    }
   ],
   "source": [
    "next(i)    "
   ]
  },
  {
   "cell_type": "code",
   "execution_count": 10,
   "id": "73ae72fd-e889-49fe-84c4-532d4eb3966a",
   "metadata": {},
   "outputs": [
    {
     "data": {
      "text/plain": [
       "'d'"
      ]
     },
     "execution_count": 10,
     "metadata": {},
     "output_type": "execute_result"
    }
   ],
   "source": [
    "next(i)   "
   ]
  },
  {
   "cell_type": "code",
   "execution_count": 11,
   "id": "297a7a04-aadd-4f93-8d0a-2474c2bedc84",
   "metadata": {},
   "outputs": [
    {
     "data": {
      "text/plain": [
       "'e'"
      ]
     },
     "execution_count": 11,
     "metadata": {},
     "output_type": "execute_result"
    }
   ],
   "source": [
    "next(i)   "
   ]
  },
  {
   "cell_type": "code",
   "execution_count": 12,
   "id": "c393b941-15eb-404d-ba3d-236f923b89be",
   "metadata": {},
   "outputs": [
    {
     "ename": "StopIteration",
     "evalue": "",
     "output_type": "error",
     "traceback": [
      "\u001b[1;31m---------------------------------------------------------------------------\u001b[0m",
      "\u001b[1;31mStopIteration\u001b[0m                             Traceback (most recent call last)",
      "Cell \u001b[1;32mIn[12], line 1\u001b[0m\n\u001b[1;32m----> 1\u001b[0m \u001b[38;5;28;43mnext\u001b[39;49m\u001b[43m(\u001b[49m\u001b[43mi\u001b[49m\u001b[43m)\u001b[49m   \n",
      "\u001b[1;31mStopIteration\u001b[0m: "
     ]
    }
   ],
   "source": [
    "next(i)   \n"
   ]
  },
  {
   "cell_type": "code",
   "execution_count": 13,
   "id": "f3b44369-e6f9-4836-ae4b-758e334aeafc",
   "metadata": {},
   "outputs": [
    {
     "name": "stdout",
     "output_type": "stream",
     "text": [
      "a\n",
      "b\n",
      "c\n",
      "d\n",
      "e\n"
     ]
    }
   ],
   "source": [
    "for i in iter(\"abcde\"):\n",
    "    print(i)"
   ]
  },
  {
   "cell_type": "code",
   "execution_count": null,
   "id": "66922dc4-9891-4ecd-ac6e-584efc1afdf8",
   "metadata": {},
   "outputs": [],
   "source": [
    "\"\"\" explication : \n",
    "iterable_object =  iter(\"abcde\")\n",
    "for i in iterable_object:\n",
    "    try:\n",
    "        i = next(iterable_object)\n",
    "        print(i)\n",
    "    except StopIteration as e:\n",
    "        break\n",
    "\"\""
   ]
  },
  {
   "cell_type": "code",
   "execution_count": 14,
   "id": "52bcfc21-e0fe-4ade-b1a9-ee9977cd4ef2",
   "metadata": {},
   "outputs": [
    {
     "name": "stdout",
     "output_type": "stream",
     "text": [
      "a\n",
      "b\n",
      "c\n",
      "d\n",
      "e\n"
     ]
    }
   ],
   "source": [
    "objet_iterable = iter(\"abcde\")\n",
    "for i in objet_iterable:\n",
    "    print(i)"
   ]
  },
  {
   "cell_type": "code",
   "execution_count": 15,
   "id": "660a8e3e-d9d4-43d3-8228-c4904db5692a",
   "metadata": {},
   "outputs": [],
   "source": [
    "for i in objet_iterable:\n",
    "    print(i)"
   ]
  },
  {
   "cell_type": "code",
   "execution_count": 17,
   "id": "cded4e21-fb38-4897-9823-37f27d80c89f",
   "metadata": {},
   "outputs": [
    {
     "name": "stdout",
     "output_type": "stream",
     "text": [
      "10\n",
      "9\n",
      "8\n",
      "7\n",
      "6\n",
      "5\n",
      "4\n",
      "3\n",
      "2\n",
      "1\n",
      "0\n"
     ]
    }
   ],
   "source": [
    "class Compteur:\n",
    "    def __init__(self, compteur):\n",
    "        self.compteur = compteur\n",
    "\n",
    "    def __next__(self):\n",
    "        if self.compteur <= 0:\n",
    "            raise StopIteration\n",
    "        self.compteur = self.compteur - 1\n",
    "        return self.compteur\n",
    "\n",
    "    def __iter__(self):\n",
    "        return self\n",
    "\n",
    "test_compteur = Compteur(11)\n",
    "for i in test_compteur:\n",
    "    print(i)"
   ]
  },
  {
   "cell_type": "code",
   "execution_count": 18,
   "id": "f831e4e9-f3d8-4c6a-abfb-fdc8cdc0db97",
   "metadata": {},
   "outputs": [],
   "source": [
    "for i in test_compteur:\n",
    "    print(i)"
   ]
  },
  {
   "cell_type": "code",
   "execution_count": 19,
   "id": "aaeca60b-8183-4e94-a30b-be4c43da1693",
   "metadata": {},
   "outputs": [
    {
     "name": "stdout",
     "output_type": "stream",
     "text": [
      "10\n",
      "9\n",
      "8\n",
      "7\n",
      "6\n",
      "5\n",
      "4\n",
      "3\n",
      "2\n",
      "1\n",
      "0\n",
      "10\n",
      "9\n",
      "8\n",
      "7\n",
      "6\n",
      "5\n",
      "4\n",
      "3\n",
      "2\n",
      "1\n",
      "0\n",
      "10\n",
      "9\n",
      "8\n",
      "7\n",
      "6\n",
      "5\n",
      "4\n",
      "3\n",
      "2\n",
      "1\n",
      "0\n"
     ]
    }
   ],
   "source": [
    "class CompteurState:\n",
    "    def __init__(self, compteur):\n",
    "        self.compteur = compteur\n",
    "\n",
    "    def __next__(self):\n",
    "        if self.compteur <= 0:\n",
    "            raise StopIteration\n",
    "        self.compteur = self.compteur - 1\n",
    "        return self.compteur\n",
    "        \n",
    "class CompteurIterator:\n",
    "    def __init__(self, compteur):\n",
    "        self.compteur = compteur\n",
    "\n",
    "    def __iter__(self):\n",
    "        return CompteurState(self.compteur)\n",
    "        \n",
    "compteur = CompteurIterator(11)\n",
    "for i in compteur:\n",
    "    print(i)\n",
    "for i in compteur:\n",
    "    print(i)\n",
    "for i in compteur:\n",
    "    print(i)"
   ]
  },
  {
   "cell_type": "code",
   "execution_count": 26,
   "id": "82c568d2-7838-428d-b7dd-ef1bc54f3667",
   "metadata": {},
   "outputs": [
    {
     "name": "stdout",
     "output_type": "stream",
     "text": [
      "5\n",
      "4\n",
      "3\n",
      "2\n",
      "1\n",
      "0\n",
      "5\n",
      "4\n",
      "3\n",
      "2\n",
      "1\n",
      "0\n"
     ]
    }
   ],
   "source": [
    "#Correction étape 1\n",
    "class CompteurState:\n",
    "    def __init__(self, depart_compteur):\n",
    "        self.compteur = depart_compteur\n",
    "        \n",
    "    def __next__(self):\n",
    "        if self.compteur <= 0:\n",
    "            raise StopIteration\n",
    "        self.compteur -= 1\n",
    "        return self.compteur\n",
    "        \n",
    "class Compteur:\n",
    "    def __init__(self, depart_compteur):\n",
    "        self.compteur = depart_compteur\n",
    "\n",
    "    def __iter__(self):\n",
    "        return CompteurState(self.compteur)  \n",
    "        \n",
    "compteur = Compteur(6)        \n",
    "for i in compteur:\n",
    "    print(i)\n",
    "for i in compteur:\n",
    "    print(i)"
   ]
  },
  {
   "cell_type": "code",
   "execution_count": 33,
   "id": "155346c9-4c5f-4744-a117-e1994186317d",
   "metadata": {},
   "outputs": [
    {
     "name": "stdout",
     "output_type": "stream",
     "text": [
      "2\n",
      "3\n",
      "5\n",
      "7\n",
      "11\n",
      "13\n",
      "17\n",
      "19\n",
      "2\n",
      "3\n",
      "5\n",
      "7\n",
      "11\n",
      "13\n",
      "17\n",
      "19\n",
      "2\n",
      "3\n",
      "5\n",
      "7\n",
      "11\n",
      "13\n",
      "17\n",
      "19\n"
     ]
    }
   ],
   "source": [
    "class PrimeIteratorState:\n",
    "    def __init__(self, limit):\n",
    "        self.limit = limit\n",
    "        self.current = 2\n",
    "\n",
    "    def __next__(self):\n",
    "        while self.current <= self.limit:\n",
    "            est_premier = True\n",
    "            for i in range(2, self.current):\n",
    "                if (self.current % i == 0):\n",
    "                    est_premier = False\n",
    "                    break\n",
    "            if est_premier:\n",
    "                self.current += 1\n",
    "                return self.current - 1\n",
    "            self.current += 1      \n",
    "        raise StopIteration\n",
    "        \n",
    "class PrimeIterator:\n",
    "    def __init__(self, limit):\n",
    "        self.limit = limit\n",
    "        self.current = 2\n",
    "\n",
    "    def __iter__(self):\n",
    "        return PrimeIteratorState(self.limit)\n",
    "        \n",
    "primeiterator = PrimeIterator(20)\n",
    "for i in primeiterator:\n",
    "    print(i)\n",
    "for i in primeiterator:\n",
    "    print(i)\n",
    "for i in primeiterator:\n",
    "    print(i)"
   ]
  },
  {
   "cell_type": "code",
   "execution_count": null,
   "id": "8222c306-4c89-4ff3-9d56-560de7ecfded",
   "metadata": {},
   "outputs": [],
   "source": []
  }
 ],
 "metadata": {
  "kernelspec": {
   "display_name": "Python 3 (ipykernel)",
   "language": "python",
   "name": "python3"
  },
  "language_info": {
   "codemirror_mode": {
    "name": "ipython",
    "version": 3
   },
   "file_extension": ".py",
   "mimetype": "text/x-python",
   "name": "python",
   "nbconvert_exporter": "python",
   "pygments_lexer": "ipython3",
   "version": "3.12.7"
  }
 },
 "nbformat": 4,
 "nbformat_minor": 5
}
