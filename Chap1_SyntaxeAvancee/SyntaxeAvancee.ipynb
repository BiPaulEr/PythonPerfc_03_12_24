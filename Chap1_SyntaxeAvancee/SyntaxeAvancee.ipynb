{
 "cells": [
  {
   "cell_type": "code",
   "execution_count": 6,
   "id": "60ec5698-51f7-41fa-88bd-b9cda18faa8a",
   "metadata": {},
   "outputs": [],
   "source": [
    "i = iter(\"abcde\")"
   ]
  },
  {
   "cell_type": "code",
   "execution_count": 7,
   "id": "d997d8fc-9e6e-4894-98e3-eca8dfd485fd",
   "metadata": {},
   "outputs": [
    {
     "data": {
      "text/plain": [
       "'a'"
      ]
     },
     "execution_count": 7,
     "metadata": {},
     "output_type": "execute_result"
    }
   ],
   "source": [
    "next(i)"
   ]
  },
  {
   "cell_type": "code",
   "execution_count": 8,
   "id": "f676c56f-ea83-440b-a443-bb3a9151101c",
   "metadata": {},
   "outputs": [
    {
     "data": {
      "text/plain": [
       "'b'"
      ]
     },
     "execution_count": 8,
     "metadata": {},
     "output_type": "execute_result"
    }
   ],
   "source": [
    "next(i)"
   ]
  },
  {
   "cell_type": "code",
   "execution_count": 9,
   "id": "91f5c981-b58b-4e8e-9d0e-9b74e8b9df4d",
   "metadata": {},
   "outputs": [
    {
     "data": {
      "text/plain": [
       "'c'"
      ]
     },
     "execution_count": 9,
     "metadata": {},
     "output_type": "execute_result"
    }
   ],
   "source": [
    "next(i)    "
   ]
  },
  {
   "cell_type": "code",
   "execution_count": 10,
   "id": "73ae72fd-e889-49fe-84c4-532d4eb3966a",
   "metadata": {},
   "outputs": [
    {
     "data": {
      "text/plain": [
       "'d'"
      ]
     },
     "execution_count": 10,
     "metadata": {},
     "output_type": "execute_result"
    }
   ],
   "source": [
    "next(i)   "
   ]
  },
  {
   "cell_type": "code",
   "execution_count": 11,
   "id": "297a7a04-aadd-4f93-8d0a-2474c2bedc84",
   "metadata": {},
   "outputs": [
    {
     "data": {
      "text/plain": [
       "'e'"
      ]
     },
     "execution_count": 11,
     "metadata": {},
     "output_type": "execute_result"
    }
   ],
   "source": [
    "next(i)   "
   ]
  },
  {
   "cell_type": "code",
   "execution_count": 12,
   "id": "c393b941-15eb-404d-ba3d-236f923b89be",
   "metadata": {},
   "outputs": [
    {
     "ename": "StopIteration",
     "evalue": "",
     "output_type": "error",
     "traceback": [
      "\u001b[1;31m---------------------------------------------------------------------------\u001b[0m",
      "\u001b[1;31mStopIteration\u001b[0m                             Traceback (most recent call last)",
      "Cell \u001b[1;32mIn[12], line 1\u001b[0m\n\u001b[1;32m----> 1\u001b[0m \u001b[38;5;28;43mnext\u001b[39;49m\u001b[43m(\u001b[49m\u001b[43mi\u001b[49m\u001b[43m)\u001b[49m   \n",
      "\u001b[1;31mStopIteration\u001b[0m: "
     ]
    }
   ],
   "source": [
    "next(i)   \n"
   ]
  },
  {
   "cell_type": "code",
   "execution_count": 13,
   "id": "f3b44369-e6f9-4836-ae4b-758e334aeafc",
   "metadata": {},
   "outputs": [
    {
     "name": "stdout",
     "output_type": "stream",
     "text": [
      "a\n",
      "b\n",
      "c\n",
      "d\n",
      "e\n"
     ]
    }
   ],
   "source": [
    "for i in iter(\"abcde\"):\n",
    "    print(i)"
   ]
  },
  {
   "cell_type": "code",
   "execution_count": null,
   "id": "66922dc4-9891-4ecd-ac6e-584efc1afdf8",
   "metadata": {},
   "outputs": [],
   "source": [
    "\"\"\" explication : \n",
    "iterable_object =  iter(\"abcde\")\n",
    "for i in iterable_object:\n",
    "    try:\n",
    "        i = next(iterable_object)\n",
    "        print(i)\n",
    "    except StopIteration as e:\n",
    "        break\n",
    "\"\""
   ]
  },
  {
   "cell_type": "code",
   "execution_count": 14,
   "id": "52bcfc21-e0fe-4ade-b1a9-ee9977cd4ef2",
   "metadata": {},
   "outputs": [
    {
     "name": "stdout",
     "output_type": "stream",
     "text": [
      "a\n",
      "b\n",
      "c\n",
      "d\n",
      "e\n"
     ]
    }
   ],
   "source": [
    "objet_iterable = iter(\"abcde\")\n",
    "for i in objet_iterable:\n",
    "    print(i)"
   ]
  },
  {
   "cell_type": "code",
   "execution_count": 15,
   "id": "660a8e3e-d9d4-43d3-8228-c4904db5692a",
   "metadata": {},
   "outputs": [],
   "source": [
    "for i in objet_iterable:\n",
    "    print(i)"
   ]
  },
  {
   "cell_type": "code",
   "execution_count": 17,
   "id": "cded4e21-fb38-4897-9823-37f27d80c89f",
   "metadata": {},
   "outputs": [
    {
     "name": "stdout",
     "output_type": "stream",
     "text": [
      "10\n",
      "9\n",
      "8\n",
      "7\n",
      "6\n",
      "5\n",
      "4\n",
      "3\n",
      "2\n",
      "1\n",
      "0\n"
     ]
    }
   ],
   "source": [
    "class Compteur:\n",
    "    def __init__(self, compteur):\n",
    "        self.compteur = compteur\n",
    "\n",
    "    def __next__(self):\n",
    "        if self.compteur <= 0:\n",
    "            raise StopIteration\n",
    "        self.compteur = self.compteur - 1\n",
    "        return self.compteur\n",
    "\n",
    "    def __iter__(self):\n",
    "        return self\n",
    "\n",
    "test_compteur = Compteur(11)\n",
    "for i in test_compteur:\n",
    "    print(i)"
   ]
  },
  {
   "cell_type": "code",
   "execution_count": 18,
   "id": "f831e4e9-f3d8-4c6a-abfb-fdc8cdc0db97",
   "metadata": {},
   "outputs": [],
   "source": [
    "for i in test_compteur:\n",
    "    print(i)"
   ]
  },
  {
   "cell_type": "code",
   "execution_count": 19,
   "id": "aaeca60b-8183-4e94-a30b-be4c43da1693",
   "metadata": {},
   "outputs": [
    {
     "name": "stdout",
     "output_type": "stream",
     "text": [
      "10\n",
      "9\n",
      "8\n",
      "7\n",
      "6\n",
      "5\n",
      "4\n",
      "3\n",
      "2\n",
      "1\n",
      "0\n",
      "10\n",
      "9\n",
      "8\n",
      "7\n",
      "6\n",
      "5\n",
      "4\n",
      "3\n",
      "2\n",
      "1\n",
      "0\n",
      "10\n",
      "9\n",
      "8\n",
      "7\n",
      "6\n",
      "5\n",
      "4\n",
      "3\n",
      "2\n",
      "1\n",
      "0\n"
     ]
    }
   ],
   "source": [
    "class CompteurState:\n",
    "    def __init__(self, compteur):\n",
    "        self.compteur = compteur\n",
    "\n",
    "    def __next__(self):\n",
    "        if self.compteur <= 0:\n",
    "            raise StopIteration\n",
    "        self.compteur = self.compteur - 1\n",
    "        return self.compteur\n",
    "        \n",
    "class CompteurIterator:\n",
    "    def __init__(self, compteur):\n",
    "        self.compteur = compteur\n",
    "\n",
    "    def __iter__(self):\n",
    "        return CompteurState(self.compteur)\n",
    "        \n",
    "compteur = CompteurIterator(11)\n",
    "for i in compteur:\n",
    "    print(i)\n",
    "for i in compteur:\n",
    "    print(i)\n",
    "for i in compteur:\n",
    "    print(i)"
   ]
  },
  {
   "cell_type": "code",
   "execution_count": 26,
   "id": "82c568d2-7838-428d-b7dd-ef1bc54f3667",
   "metadata": {},
   "outputs": [
    {
     "name": "stdout",
     "output_type": "stream",
     "text": [
      "5\n",
      "4\n",
      "3\n",
      "2\n",
      "1\n",
      "0\n",
      "5\n",
      "4\n",
      "3\n",
      "2\n",
      "1\n",
      "0\n"
     ]
    }
   ],
   "source": [
    "#Correction étape 1\n",
    "class CompteurState:\n",
    "    def __init__(self, depart_compteur):\n",
    "        self.compteur = depart_compteur\n",
    "        \n",
    "    def __next__(self):\n",
    "        if self.compteur <= 0:\n",
    "            raise StopIteration\n",
    "        self.compteur -= 1\n",
    "        return self.compteur\n",
    "        \n",
    "class Compteur:\n",
    "    def __init__(self, depart_compteur):\n",
    "        self.compteur = depart_compteur\n",
    "\n",
    "    def __iter__(self):\n",
    "        return CompteurState(self.compteur)  \n",
    "        \n",
    "compteur = Compteur(6)        \n",
    "for i in compteur:\n",
    "    print(i)\n",
    "for i in compteur:\n",
    "    print(i)"
   ]
  },
  {
   "cell_type": "code",
   "execution_count": 33,
   "id": "155346c9-4c5f-4744-a117-e1994186317d",
   "metadata": {},
   "outputs": [
    {
     "name": "stdout",
     "output_type": "stream",
     "text": [
      "2\n",
      "3\n",
      "5\n",
      "7\n",
      "11\n",
      "13\n",
      "17\n",
      "19\n",
      "2\n",
      "3\n",
      "5\n",
      "7\n",
      "11\n",
      "13\n",
      "17\n",
      "19\n",
      "2\n",
      "3\n",
      "5\n",
      "7\n",
      "11\n",
      "13\n",
      "17\n",
      "19\n"
     ]
    }
   ],
   "source": [
    "class PrimeIteratorState:\n",
    "    def __init__(self, limit):\n",
    "        self.limit = limit\n",
    "        self.current = 2\n",
    "\n",
    "    def __next__(self):\n",
    "        while self.current <= self.limit:\n",
    "            est_premier = True\n",
    "            for i in range(2, self.current):\n",
    "                if (self.current % i == 0):\n",
    "                    est_premier = False\n",
    "                    break\n",
    "            if est_premier:\n",
    "                self.current += 1\n",
    "                return self.current - 1\n",
    "            self.current += 1      \n",
    "        raise StopIteration\n",
    "        \n",
    "class PrimeIterator:\n",
    "    def __init__(self, limit):\n",
    "        self.limit = limit\n",
    "        self.current = 2\n",
    "\n",
    "    def __iter__(self):\n",
    "        return PrimeIteratorState(self.limit)\n",
    "        \n",
    "primeiterator = PrimeIterator(20)\n",
    "for i in primeiterator:\n",
    "    print(i)\n",
    "for i in primeiterator:\n",
    "    print(i)\n",
    "for i in primeiterator:\n",
    "    print(i)"
   ]
  },
  {
   "cell_type": "code",
   "execution_count": 34,
   "id": "8222c306-4c89-4ff3-9d56-560de7ecfded",
   "metadata": {},
   "outputs": [
    {
     "name": "stdout",
     "output_type": "stream",
     "text": [
      "20\n",
      "19\n",
      "18\n",
      "17\n",
      "16\n",
      "15\n",
      "14\n",
      "13\n",
      "12\n",
      "11\n",
      "10\n",
      "9\n",
      "8\n",
      "7\n",
      "6\n",
      "5\n",
      "4\n",
      "3\n",
      "2\n",
      "1\n",
      "0\n"
     ]
    }
   ],
   "source": [
    "#correction generateur\n",
    "def compteur(n):\n",
    "    while n >= 0:\n",
    "        yield n\n",
    "        n = n - 1\n",
    "\n",
    "for i in compteur(20):\n",
    "    print(i)"
   ]
  },
  {
   "cell_type": "code",
   "execution_count": 36,
   "id": "71589fa7-c547-4d82-9cde-6f5e6f76956f",
   "metadata": {},
   "outputs": [
    {
     "name": "stdout",
     "output_type": "stream",
     "text": [
      "2\n",
      "5\n",
      "7\n",
      "11\n",
      "13\n",
      "17\n",
      "19\n",
      "2\n",
      "5\n",
      "7\n",
      "11\n",
      "13\n",
      "17\n",
      "19\n",
      "2\n",
      "5\n",
      "7\n",
      "11\n",
      "13\n",
      "17\n",
      "19\n"
     ]
    }
   ],
   "source": [
    "def PrimeGenerateur(limit):\n",
    "    current = 2\n",
    "    while current <= limit:\n",
    "        est_premier = True\n",
    "        for i in range(2,  current):\n",
    "            if (current % i == 0):\n",
    "                est_premier = False\n",
    "                break\n",
    "        if est_premier:\n",
    "            current += 1\n",
    "            yield current - 1\n",
    "        current += 1\n",
    "        \n",
    "for i in PrimeGenerateur(20):\n",
    "    print(i)\n",
    "for i in PrimeGenerateur(20):\n",
    "    print(i)\n",
    "for i in PrimeGenerateur(20):\n",
    "    print(i)"
   ]
  },
  {
   "cell_type": "markdown",
   "id": "c4f680e8-cdcb-4fba-b213-6e876a8ffcf6",
   "metadata": {},
   "source": [
    "### decorator"
   ]
  },
  {
   "cell_type": "code",
   "execution_count": 45,
   "id": "6a7ae980-3844-4471-a342-234e94233ba9",
   "metadata": {},
   "outputs": [
    {
     "name": "stdout",
     "output_type": "stream",
     "text": [
      "Je suis la fonction\n"
     ]
    }
   ],
   "source": [
    "def simple_decorator(function):\n",
    "    def wrapper():\n",
    "        print(\"Nouvelle implémentation 1 : début de la fonction\")\n",
    "        function()\n",
    "        print(\"Nouvelle implémentation 2 : fin de la fonction\")\n",
    "    return wrapper\n",
    "\n",
    "def simple_function():\n",
    "    print(\"Je suis la fonction\")\n",
    "\n",
    "simple_function()\n"
   ]
  },
  {
   "cell_type": "code",
   "execution_count": 46,
   "id": "de3bc0d9-bc90-4c11-8a0a-1bf3e5cdcc8c",
   "metadata": {
    "scrolled": true
   },
   "outputs": [
    {
     "name": "stdout",
     "output_type": "stream",
     "text": [
      "Nouvelle implémentation 1 : début de la fonction\n",
      "Je suis la fonction\n",
      "Nouvelle implémentation 2 : fin de la fonction\n"
     ]
    }
   ],
   "source": [
    "simple_function_decore = simple_decorator(simple_function)\n",
    "simple_function_decore()"
   ]
  },
  {
   "cell_type": "code",
   "execution_count": 47,
   "id": "8f1a310f-aac6-41ca-b2f4-25cee48e5554",
   "metadata": {},
   "outputs": [
    {
     "name": "stdout",
     "output_type": "stream",
     "text": [
      "Nouvelle implémentation 1 : début de la fonction\n",
      "Je suis la fonction\n",
      "Nouvelle implémentation 2 : fin de la fonction\n"
     ]
    }
   ],
   "source": [
    "simple_function = simple_decorator(simple_function)\n",
    "simple_function()"
   ]
  },
  {
   "cell_type": "code",
   "execution_count": 48,
   "id": "2a040a44-dd2e-4a69-a6cb-1df7e465fc28",
   "metadata": {},
   "outputs": [],
   "source": [
    "def nouvelle_function():\n",
    "    print(\"Je suis la  nouvelle fonction\")\n",
    "nouvelle_function = simple_decorator(nouvelle_function)"
   ]
  },
  {
   "cell_type": "code",
   "execution_count": 49,
   "id": "98d0ee3c-eba7-4eec-a54e-25dabdcde561",
   "metadata": {},
   "outputs": [
    {
     "name": "stdout",
     "output_type": "stream",
     "text": [
      "Nouvelle implémentation 1 : début de la fonction\n",
      "Je suis la  nouvelle fonction\n",
      "Nouvelle implémentation 2 : fin de la fonction\n"
     ]
    }
   ],
   "source": [
    "nouvelle_function()"
   ]
  },
  {
   "cell_type": "code",
   "execution_count": 52,
   "id": "2edc709c-98ca-4d7a-b499-71c1159fd46e",
   "metadata": {},
   "outputs": [
    {
     "name": "stdout",
     "output_type": "stream",
     "text": [
      "Nouvelle implémentation 1 : début de la fonction\n",
      "Je suis la  vrai ecriture fonction\n",
      "Nouvelle implémentation 2 : fin de la fonction\n"
     ]
    }
   ],
   "source": [
    "@simple_decorator\n",
    "def vrai_ecriture():\n",
    "    print(\"Je suis la  vrai ecriture fonction\")\n",
    "\n",
    "vrai_ecriture()"
   ]
  },
  {
   "cell_type": "code",
   "execution_count": 61,
   "id": "fdb2ba40-64c7-4950-b55d-283d830fb3f3",
   "metadata": {},
   "outputs": [
    {
     "name": "stdout",
     "output_type": "stream",
     "text": [
      "début de la fonction\n",
      "Bonjour Paul\n",
      "fin de la fonction\n"
     ]
    },
    {
     "ename": "TypeError",
     "evalue": "simple_decorator_2.<locals>.wrapper() missing 1 required positional argument: 'nom'",
     "output_type": "error",
     "traceback": [
      "\u001b[1;31m---------------------------------------------------------------------------\u001b[0m",
      "\u001b[1;31mTypeError\u001b[0m                                 Traceback (most recent call last)",
      "Cell \u001b[1;32mIn[61], line 19\u001b[0m\n\u001b[0;32m     15\u001b[0m     \u001b[38;5;28mprint\u001b[39m(\u001b[38;5;124mf\u001b[39m\u001b[38;5;124m\"\u001b[39m\u001b[38;5;124mBonjour\u001b[39m\u001b[38;5;124m\"\u001b[39m)\n\u001b[0;32m     17\u001b[0m simple_function(\u001b[38;5;124m\"\u001b[39m\u001b[38;5;124mPaul\u001b[39m\u001b[38;5;124m\"\u001b[39m)\n\u001b[1;32m---> 19\u001b[0m \u001b[43msimple_function_sans_argument\u001b[49m\u001b[43m(\u001b[49m\u001b[43m)\u001b[49m\n",
      "\u001b[1;31mTypeError\u001b[0m: simple_decorator_2.<locals>.wrapper() missing 1 required positional argument: 'nom'"
     ]
    }
   ],
   "source": [
    "#illustration problème argument\n",
    "def simple_decorator_2(function):\n",
    "    def wrapper(nom):\n",
    "        print(\"début de la fonction\")\n",
    "        function(nom)\n",
    "        print(\"fin de la fonction\")\n",
    "    return wrapper\n",
    "\n",
    "@simple_decorator_2\n",
    "def simple_function(nom):\n",
    "    print(f\"Bonjour {nom}\")\n",
    "\n",
    "@simple_decorator_2\n",
    "def simple_function_sans_argument():\n",
    "    print(f\"Bonjour\")\n",
    "    \n",
    "simple_function(\"Paul\")\n",
    "\n",
    "simple_function_sans_argument()\n"
   ]
  },
  {
   "cell_type": "code",
   "execution_count": 67,
   "id": "62377fed-38b4-401f-a8a0-56953fac02f7",
   "metadata": {},
   "outputs": [
    {
     "ename": "TypeError",
     "evalue": "function_5s_arg() missing 1 required positional argument: 'nom'",
     "output_type": "error",
     "traceback": [
      "\u001b[1;31m---------------------------------------------------------------------------\u001b[0m",
      "\u001b[1;31mTypeError\u001b[0m                                 Traceback (most recent call last)",
      "Cell \u001b[1;32mIn[67], line 23\u001b[0m\n\u001b[0;32m     20\u001b[0m     time\u001b[38;5;241m.\u001b[39msleep(\u001b[38;5;241m5\u001b[39m)\n\u001b[0;32m     21\u001b[0m     \u001b[38;5;28mprint\u001b[39m(nom)\n\u001b[1;32m---> 23\u001b[0m \u001b[43mfunction_5s_arg\u001b[49m\u001b[43m(\u001b[49m\u001b[43m)\u001b[49m\n",
      "Cell \u001b[1;32mIn[67], line 5\u001b[0m, in \u001b[0;36mbenchmark.<locals>.wrapper\u001b[1;34m()\u001b[0m\n\u001b[0;32m      3\u001b[0m \u001b[38;5;28;01mdef\u001b[39;00m \u001b[38;5;21mwrapper\u001b[39m():\n\u001b[0;32m      4\u001b[0m     begin \u001b[38;5;241m=\u001b[39m time\u001b[38;5;241m.\u001b[39mtime()\n\u001b[1;32m----> 5\u001b[0m     \u001b[43mfunction\u001b[49m\u001b[43m(\u001b[49m\u001b[43m)\u001b[49m\n\u001b[0;32m      6\u001b[0m     end \u001b[38;5;241m=\u001b[39m time\u001b[38;5;241m.\u001b[39mtime()\n\u001b[0;32m      7\u001b[0m     \u001b[38;5;28mprint\u001b[39m(\u001b[38;5;124mf\u001b[39m\u001b[38;5;124m\"\u001b[39m\u001b[38;5;124mle temps d\u001b[39m\u001b[38;5;124m'\u001b[39m\u001b[38;5;124mexceution est \u001b[39m\u001b[38;5;132;01m{\u001b[39;00mend\u001b[38;5;250m \u001b[39m\u001b[38;5;241m-\u001b[39m\u001b[38;5;250m \u001b[39mbegin\u001b[38;5;132;01m}\u001b[39;00m\u001b[38;5;124m\"\u001b[39m)\n",
      "\u001b[1;31mTypeError\u001b[0m: function_5s_arg() missing 1 required positional argument: 'nom'"
     ]
    }
   ],
   "source": [
    "import time\n",
    "def benchmark(function):\n",
    "    def wrapper():\n",
    "        begin = time.time()\n",
    "        function()\n",
    "        end = time.time()\n",
    "        print(f\"le temps d'exceution est {end - begin}\")\n",
    "    return wrapper\n",
    "\n",
    "@benchmark\n",
    "def function_2s():\n",
    "    time.sleep(2)\n",
    "    \n",
    "@benchmark \n",
    "def function_5s():\n",
    "    time.sleep(5)\n",
    "    \n",
    "@benchmark \n",
    "def function_5s_arg(nom):\n",
    "    time.sleep(5)\n",
    "    print(nom)\n",
    "    \n",
    "function_5s_arg()"
   ]
  },
  {
   "cell_type": "code",
   "execution_count": 72,
   "id": "748248a0-ea51-4819-8fc2-d78a9a2ac468",
   "metadata": {},
   "outputs": [
    {
     "name": "stdout",
     "output_type": "stream",
     "text": [
      "3\n",
      "-1\n",
      "-15\n"
     ]
    }
   ],
   "source": [
    "#démonstrastion de *args - nombre argument positionelles non définis\n",
    "def minimum(*args):\n",
    "    valeur = args[0]\n",
    "    for element in args[1:]:\n",
    "        if element <valeur:\n",
    "            valeur = element\n",
    "    return valeur\n",
    "\n",
    "print(minimum(3, 4, 5 ,7))\n",
    "print(minimum(-1, 1))\n",
    "print(minimum(-1, 1, 10, -11, -12, -13, -14, -15))"
   ]
  },
  {
   "cell_type": "code",
   "execution_count": 77,
   "id": "3ab71a39-595e-415f-a47f-e6583293bf2f",
   "metadata": {},
   "outputs": [
    {
     "name": "stdout",
     "output_type": "stream",
     "text": [
      "le temps d'exceution est 2.000612258911133\n",
      "Martin\n",
      "le temps d'exceution est 5.000069618225098\n",
      "Martin\n",
      "Paul\n",
      "le temps d'exceution est 5.000998497009277\n"
     ]
    }
   ],
   "source": [
    "#benchmark corrigé pour s'adapter à toutes les fonnctions \n",
    "import time\n",
    "def benchmark(function):\n",
    "    def wrapper(*args):\n",
    "        begin = time.time()\n",
    "        function(*args)\n",
    "        end = time.time()\n",
    "        print(f\"le temps d'exceution est {end - begin}\")\n",
    "    return wrapper\n",
    "\n",
    "@benchmark\n",
    "def function_2s():\n",
    "    time.sleep(2)\n",
    "    \n",
    "@benchmark \n",
    "def function_5s():\n",
    "    time.sleep(5)\n",
    "    \n",
    "@benchmark \n",
    "def function_5s_arg(nom):\n",
    "    time.sleep(5)\n",
    "    print(nom)\n",
    "    \n",
    "@benchmark \n",
    "def function_5s_args(nom, prenom):\n",
    "    time.sleep(5)\n",
    "    print(nom)   \n",
    "    print(prenom)  \n",
    "    \n",
    "function_2s()    \n",
    "function_5s_arg(\"Martin\")\n",
    "function_5s_args(\"Martin\", \"Paul\")"
   ]
  },
  {
   "cell_type": "code",
   "execution_count": 81,
   "id": "14ee5ec9-a4f2-490b-bae7-65e68916a631",
   "metadata": {},
   "outputs": [],
   "source": [
    "#Correction Benchamrk Version1\n",
    "def time_execution(function):\n",
    "    def wrapper(*args):\n",
    "        begin = time.time()\n",
    "        function(*args)\n",
    "        end = time.time()\n",
    "        print(f\"Le temps d'excution de la fonction {function.__name__} est {end - begin}\")\n",
    "    return wrapper\n",
    "\n",
    "\n",
    "@time_execution\n",
    "def fetch_data():\n",
    "    time.sleep(2)  # Simule une opération prenant du temps\n",
    "    return \"Data\"\n"
   ]
  },
  {
   "cell_type": "code",
   "execution_count": 82,
   "id": "8d3a8fe3-089e-4476-b944-e7e57c1fd5ed",
   "metadata": {},
   "outputs": [
    {
     "name": "stdout",
     "output_type": "stream",
     "text": [
      "Le temps d'excution de la fonction fetch_data est 2.0007247924804688\n"
     ]
    }
   ],
   "source": [
    "fetch_data()"
   ]
  },
  {
   "cell_type": "code",
   "execution_count": 85,
   "id": "def894cd-6064-46d7-8af9-628671d93097",
   "metadata": {},
   "outputs": [
    {
     "name": "stdout",
     "output_type": "stream",
     "text": [
      "Je suis appele\n",
      "Je suis appele\n",
      "Je suis appele\n",
      "Je suis appele\n",
      "Je suis appele\n"
     ]
    }
   ],
   "source": [
    "def repeat(function):\n",
    "    def wrapper():\n",
    "        for i in range(0, 5):\n",
    "            function()\n",
    "    return wrapper\n",
    "\n",
    "@repeat\n",
    "def fonction_repete():\n",
    "    print(\"Je suis appele\")\n",
    "\n",
    "fonction_repete()"
   ]
  },
  {
   "cell_type": "code",
   "execution_count": 93,
   "id": "ecdb3315-f49f-4fc1-9e34-28c356ffd14e",
   "metadata": {},
   "outputs": [
    {
     "name": "stdout",
     "output_type": "stream",
     "text": [
      "Message Important\n",
      "Je suis appele\n",
      "Je suis appele\n",
      "Je suis appele\n",
      "Je suis appele\n",
      "Je suis appele\n",
      "Je suis appele\n",
      "Je suis appele\n",
      "Je suis appele\n",
      "Je suis appele\n",
      "Je suis appele\n",
      "Message Important\n"
     ]
    }
   ],
   "source": [
    "#argument de decorator\n",
    "def repeat_avec_argument(nombre_repetition, message_important): \n",
    "    def repeat(function):\n",
    "        def wrapper():\n",
    "            print(message_important)\n",
    "            for i in range(0, nombre_repetition):\n",
    "                function()\n",
    "            print(message_important)\n",
    "        return wrapper\n",
    "    return repeat\n",
    "\n",
    "@repeat_avec_argument(10, \"Message Important\")\n",
    "def fonction_repete():\n",
    "    print(\"Je suis appele\")\n",
    "\n",
    "fonction_repete()"
   ]
  },
  {
   "cell_type": "code",
   "execution_count": 94,
   "id": "39a3ca60-c281-4c48-9ca7-f8548d1ef9e3",
   "metadata": {},
   "outputs": [
    {
     "name": "stdout",
     "output_type": "stream",
     "text": [
      "Le temps d'excution de la fonction fetch_data est 2.0004281997680664\n"
     ]
    }
   ],
   "source": [
    "#Correction Benchamrk Version1\n",
    "def time_execution(function):\n",
    "    def wrapper(*args):           \n",
    "        begin = time.time()\n",
    "        function(*args)\n",
    "        end = time.time()\n",
    "        print(f\"Le temps d'excution de la fonction {function.__name__} est {end - begin}\")\n",
    "    return wrapper\n",
    "\n",
    "\n",
    "@time_execution\n",
    "def fetch_data():\n",
    "    time.sleep(2)  # Simule une opération prenant du temps\n",
    "    return \"Data\"\n",
    "\n",
    "fetch_data()"
   ]
  },
  {
   "cell_type": "code",
   "execution_count": 95,
   "id": "b44fef9e-ed11-4be4-86ac-328e79b9fb9e",
   "metadata": {},
   "outputs": [
    {
     "name": "stdout",
     "output_type": "stream",
     "text": [
      "MON MSG Le temps d'excution de la fonction fetch_data est 2.0014805793762207\n"
     ]
    }
   ],
   "source": [
    "#Correction Benchamrk Version2\n",
    "def time_execution_with_msg(msg):\n",
    "    def time_execution(function):\n",
    "        def wrapper(*args):           \n",
    "            begin = time.time()\n",
    "            function(*args)\n",
    "            end = time.time()\n",
    "            print(f\"{msg} Le temps d'excution de la fonction {function.__name__} est {end - begin}\")\n",
    "        return wrapper\n",
    "    return time_execution\n",
    "\n",
    "@time_execution_with_msg(\"MON MSG\")\n",
    "def fetch_data():\n",
    "    time.sleep(2)  # Simule une opération prenant du temps\n",
    "    return \"Data\"\n",
    "\n",
    "fetch_data()"
   ]
  },
  {
   "cell_type": "code",
   "execution_count": 96,
   "id": "177ef62f-8b2a-4240-8312-8bd551fab8cb",
   "metadata": {},
   "outputs": [
    {
     "name": "stdout",
     "output_type": "stream",
     "text": [
      "Je suis appele\n",
      "Je suis appele\n",
      "Je suis appele\n",
      "Je suis appele\n",
      "Je suis appele\n",
      "Je suis appele\n",
      "Je suis appele\n",
      "Je suis appele\n",
      "Je suis appele\n",
      "Je suis appele\n"
     ]
    }
   ],
   "source": [
    "#Correction Reteat Version2\n",
    "def repeat_avec_arg(nombre_repetition):\n",
    "    def repeat(function):\n",
    "        def wrapper():\n",
    "            for i in range(0, nombre_repetition):\n",
    "                function()\n",
    "        return wrapper\n",
    "    return repeat\n",
    "\n",
    "@repeat_avec_arg(10)\n",
    "def fonction_repete():\n",
    "    print(\"Je suis appele\")\n",
    "\n",
    "fonction_repete()"
   ]
  },
  {
   "cell_type": "code",
   "execution_count": 106,
   "id": "ef4bf3f5-55b6-4131-832b-7f30957beef8",
   "metadata": {},
   "outputs": [
    {
     "name": "stdout",
     "output_type": "stream",
     "text": [
      "{'e': 15, 'f': 67}\n"
     ]
    },
    {
     "data": {
      "text/plain": [
       "26"
      ]
     },
     "execution_count": 106,
     "metadata": {},
     "output_type": "execute_result"
    }
   ],
   "source": [
    "#démonstration nombre arguments non définitis\n",
    "def fonction(a, b, c = 7, d = 8, **kwargs):\n",
    "    print(kwargs)\n",
    "    return a + b +c + d\n",
    "\n",
    "fonction(5, 2, d = 12, e = 15, f = 67)\n",
    "    "
   ]
  },
  {
   "cell_type": "code",
   "execution_count": 119,
   "id": "20b330e7-fe52-4e51-be94-5bc06fed635f",
   "metadata": {},
   "outputs": [],
   "source": [
    "#coorection cached\n",
    "def cached(function):\n",
    "    cache = {}\n",
    "    def wrapper(*args):  \n",
    "        if args in cache:\n",
    "            print(f\"{args} is arlready in cache with value {cache[args]}\")\n",
    "            print(cache)\n",
    "            return cache[args]\n",
    "        result = function(*args)\n",
    "        cache[args]  = result\n",
    "        print(cache)\n",
    "        return result\n",
    "    return wrapper\n",
    "    \n",
    "@cached\n",
    "def compute_sum(a, b):\n",
    "    time.sleep(2)\n",
    "    print(\"compute\")\n",
    "    return a + b\n"
   ]
  },
  {
   "cell_type": "code",
   "execution_count": 120,
   "id": "391ded59-0121-4133-b144-dc79db423989",
   "metadata": {
    "scrolled": true
   },
   "outputs": [
    {
     "name": "stdout",
     "output_type": "stream",
     "text": [
      "compute\n",
      "{(1, 2): 3}\n"
     ]
    },
    {
     "data": {
      "text/plain": [
       "3"
      ]
     },
     "execution_count": 120,
     "metadata": {},
     "output_type": "execute_result"
    }
   ],
   "source": [
    "compute_sum(1, 2)\n"
   ]
  },
  {
   "cell_type": "code",
   "execution_count": 122,
   "id": "a7602896-56d8-47f5-b0ab-edf6d337f5d8",
   "metadata": {},
   "outputs": [
    {
     "name": "stdout",
     "output_type": "stream",
     "text": [
      "(1, 3) is arlready in cache with value 4\n",
      "{(1, 2): 3, (1, 3): 4}\n"
     ]
    },
    {
     "data": {
      "text/plain": [
       "4"
      ]
     },
     "execution_count": 122,
     "metadata": {},
     "output_type": "execute_result"
    }
   ],
   "source": [
    "compute_sum(1, 3)\n"
   ]
  },
  {
   "cell_type": "code",
   "execution_count": 123,
   "id": "d6d19235-bf76-40a3-b0d9-fc8e81567137",
   "metadata": {},
   "outputs": [
    {
     "name": "stdout",
     "output_type": "stream",
     "text": [
      "(1, 3) is arlready in cache with value 4\n",
      "{(1, 2): 3, (1, 3): 4}\n"
     ]
    },
    {
     "data": {
      "text/plain": [
       "4"
      ]
     },
     "execution_count": 123,
     "metadata": {},
     "output_type": "execute_result"
    }
   ],
   "source": [
    "compute_sum(1,3)"
   ]
  },
  {
   "cell_type": "code",
   "execution_count": 124,
   "id": "03b56ad4-ee55-4f00-a358-588ed523a626",
   "metadata": {},
   "outputs": [
    {
     "name": "stdout",
     "output_type": "stream",
     "text": [
      "compute\n",
      "{(1, 3): -2}\n"
     ]
    },
    {
     "data": {
      "text/plain": [
       "-2"
      ]
     },
     "execution_count": 124,
     "metadata": {},
     "output_type": "execute_result"
    }
   ],
   "source": [
    "@cached\n",
    "def compute_sub(a, b):\n",
    "    time.sleep(2)\n",
    "    print(\"compute\")\n",
    "    return a - b\n",
    "    \n",
    "compute_sub(1,3)"
   ]
  },
  {
   "cell_type": "code",
   "execution_count": null,
   "id": "ea3c1923-7cf2-40f2-9424-6bbf07ffa2c0",
   "metadata": {},
   "outputs": [],
   "source": []
  }
 ],
 "metadata": {
  "kernelspec": {
   "display_name": "Python 3 (ipykernel)",
   "language": "python",
   "name": "python3"
  },
  "language_info": {
   "codemirror_mode": {
    "name": "ipython",
    "version": 3
   },
   "file_extension": ".py",
   "mimetype": "text/x-python",
   "name": "python",
   "nbconvert_exporter": "python",
   "pygments_lexer": "ipython3",
   "version": "3.12.7"
  }
 },
 "nbformat": 4,
 "nbformat_minor": 5
}
